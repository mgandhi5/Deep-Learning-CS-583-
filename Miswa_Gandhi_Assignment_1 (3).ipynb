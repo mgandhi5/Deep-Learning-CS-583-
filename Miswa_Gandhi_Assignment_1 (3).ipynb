{
 "cells": [
  {
   "cell_type": "code",
   "execution_count": 2,
   "metadata": {
    "id": "2KIY_4bLQog7"
   },
   "outputs": [],
   "source": [
    "import tensorflow as tf\n",
    "from keras.models import Sequential \n",
    "from keras.layers import Dense,Activation,Dropout \n",
    "from tensorflow.keras.layers import (\n",
    "    BatchNormalization, SeparableConv2D, MaxPooling2D, Activation, Flatten, Dropout, Dense\n",
    ")\n",
    "from keras.utils import np_utils\n",
    "from tensorflow.keras.datasets import mnist\n",
    "from tensorflow.keras.utils import to_categorical\n",
    "from google.colab.patches import cv2_imshow\n",
    "from sklearn.linear_model import LogisticRegression\n",
    "import matplotlib.pyplot as plt\n",
    "from tensorflow.keras.layers import Dropout\n",
    "from tensorflow.keras.regularizers import l2"
   ]
  },
  {
   "cell_type": "code",
   "execution_count": 3,
   "metadata": {
    "id": "gZeUOX4sQsWm"
   },
   "outputs": [],
   "source": [
    "(trainX, trainy), (testX, testy) = mnist.load_data()"
   ]
  },
  {
   "cell_type": "code",
   "execution_count": 4,
   "metadata": {
    "colab": {
     "base_uri": "https://localhost:8080/"
    },
    "id": "PT8S7KDzQseG",
    "outputId": "e2e1e870-f148-4ae1-b825-bc4c118584a5"
   },
   "outputs": [
    {
     "name": "stdout",
     "output_type": "stream",
     "text": [
      "(60000, 28, 28)\n",
      "(60000,)\n"
     ]
    }
   ],
   "source": [
    "print(trainX.shape)\n",
    "print(trainy.shape)"
   ]
  },
  {
   "cell_type": "code",
   "execution_count": 5,
   "metadata": {
    "id": "meeRlFkcQsj9"
   },
   "outputs": [],
   "source": [
    "trainX = trainX / 255.0\n",
    "testX = testX / 255.0"
   ]
  },
  {
   "cell_type": "code",
   "execution_count": 6,
   "metadata": {
    "id": "ALO9gcPiTNvA"
   },
   "outputs": [],
   "source": [
    "trainY = to_categorical(trainy)\n",
    "testY = to_categorical(testy)"
   ]
  },
  {
   "cell_type": "code",
   "execution_count": 7,
   "metadata": {
    "id": "BbkgwYlgTNxy"
   },
   "outputs": [],
   "source": [
    "trainX = trainX.flatten().reshape(60000,784)"
   ]
  },
  {
   "cell_type": "code",
   "execution_count": 8,
   "metadata": {
    "id": "Gv7i4Rv2TN5F"
   },
   "outputs": [],
   "source": [
    "testX = testX.flatten().reshape(10000,784)"
   ]
  },
  {
   "cell_type": "code",
   "execution_count": 9,
   "metadata": {
    "id": "_RUYybHiTN65"
   },
   "outputs": [],
   "source": [
    "log = LogisticRegression(penalty = 'l2',solver = 'sag')"
   ]
  },
  {
   "cell_type": "code",
   "execution_count": 10,
   "metadata": {
    "colab": {
     "base_uri": "https://localhost:8080/"
    },
    "id": "2U61at3oTN9P",
    "outputId": "64f72db6-fe72-4118-ba49-40fadfdee1b2"
   },
   "outputs": [
    {
     "name": "stderr",
     "output_type": "stream",
     "text": [
      "/usr/local/lib/python3.7/dist-packages/sklearn/linear_model/_sag.py:354: ConvergenceWarning: The max_iter was reached which means the coef_ did not converge\n",
      "  ConvergenceWarning,\n"
     ]
    },
    {
     "data": {
      "text/plain": [
       "LogisticRegression(solver='sag')"
      ]
     },
     "execution_count": 10,
     "metadata": {},
     "output_type": "execute_result"
    }
   ],
   "source": [
    "log.fit(trainX, trainy)"
   ]
  },
  {
   "cell_type": "code",
   "execution_count": 11,
   "metadata": {
    "colab": {
     "base_uri": "https://localhost:8080/"
    },
    "id": "MVGtNcAcTN_m",
    "outputId": "65019284-d549-4432-897e-61a268bacb9e"
   },
   "outputs": [
    {
     "name": "stdout",
     "output_type": "stream",
     "text": [
      "0.9255\n"
     ]
    }
   ],
   "source": [
    "accuracy = log.score(testX, testy)\n",
    "print(accuracy)"
   ]
  },
  {
   "cell_type": "code",
   "execution_count": 12,
   "metadata": {
    "id": "ssukXTpJTOFL"
   },
   "outputs": [],
   "source": [
    "model = Sequential()\n",
    "model.add(Dense(500,input_dim=784,activation='relu'))\n",
    "model.add(Dense(500, activation='relu'))\n",
    "model.add(Dense(10,activation='softmax'))"
   ]
  },
  {
   "cell_type": "code",
   "execution_count": 13,
   "metadata": {
    "colab": {
     "base_uri": "https://localhost:8080/"
    },
    "id": "NL7szZZoaLC0",
    "outputId": "393b590a-ad1b-4119-a663-5da0976d0c3e"
   },
   "outputs": [
    {
     "name": "stdout",
     "output_type": "stream",
     "text": [
      "Model: \"sequential\"\n",
      "_________________________________________________________________\n",
      " Layer (type)                Output Shape              Param #   \n",
      "=================================================================\n",
      " dense (Dense)               (None, 500)               392500    \n",
      "                                                                 \n",
      " dense_1 (Dense)             (None, 500)               250500    \n",
      "                                                                 \n",
      " dense_2 (Dense)             (None, 10)                5010      \n",
      "                                                                 \n",
      "=================================================================\n",
      "Total params: 648,010\n",
      "Trainable params: 648,010\n",
      "Non-trainable params: 0\n",
      "_________________________________________________________________\n"
     ]
    }
   ],
   "source": [
    "model.summary()"
   ]
  },
  {
   "cell_type": "code",
   "execution_count": 14,
   "metadata": {
    "id": "WG6IWIKmaLFs"
   },
   "outputs": [],
   "source": [
    "model.compile(loss='categorical_crossentropy',optimizer='sgd',metrics=['accuracy'])"
   ]
  },
  {
   "cell_type": "code",
   "execution_count": 15,
   "metadata": {
    "id": "I-hXvUreaLIc"
   },
   "outputs": [],
   "source": [
    "trainY = to_categorical(trainy)\n",
    "testY = to_categorical(testy)"
   ]
  },
  {
   "cell_type": "code",
   "execution_count": 16,
   "metadata": {
    "colab": {
     "base_uri": "https://localhost:8080/"
    },
    "id": "9SdvjWmcaVXm",
    "outputId": "6ebbf32b-d006-4dad-e786-dc1ce0ce5a82"
   },
   "outputs": [
    {
     "name": "stdout",
     "output_type": "stream",
     "text": [
      "Epoch 1/250\n",
      "3750/3750 [==============================] - 28s 7ms/step - loss: 0.4243 - accuracy: 0.8883 - val_loss: 0.2327 - val_accuracy: 0.9321\n",
      "Epoch 2/250\n",
      "3750/3750 [==============================] - 27s 7ms/step - loss: 0.2090 - accuracy: 0.9398 - val_loss: 0.1745 - val_accuracy: 0.9486\n",
      "Epoch 3/250\n",
      "3750/3750 [==============================] - 27s 7ms/step - loss: 0.1577 - accuracy: 0.9547 - val_loss: 0.1398 - val_accuracy: 0.9577\n",
      "Epoch 4/250\n",
      "3750/3750 [==============================] - 28s 7ms/step - loss: 0.1264 - accuracy: 0.9642 - val_loss: 0.1218 - val_accuracy: 0.9642\n",
      "Epoch 5/250\n",
      "3750/3750 [==============================] - 27s 7ms/step - loss: 0.1049 - accuracy: 0.9699 - val_loss: 0.1061 - val_accuracy: 0.9673\n",
      "Epoch 6/250\n",
      "3750/3750 [==============================] - 28s 8ms/step - loss: 0.0887 - accuracy: 0.9748 - val_loss: 0.0913 - val_accuracy: 0.9729\n",
      "Epoch 7/250\n",
      "3750/3750 [==============================] - 28s 8ms/step - loss: 0.0766 - accuracy: 0.9783 - val_loss: 0.0853 - val_accuracy: 0.9756\n",
      "Epoch 8/250\n",
      "3750/3750 [==============================] - 29s 8ms/step - loss: 0.0664 - accuracy: 0.9819 - val_loss: 0.0802 - val_accuracy: 0.9751\n",
      "Epoch 9/250\n",
      "3750/3750 [==============================] - 27s 7ms/step - loss: 0.0582 - accuracy: 0.9836 - val_loss: 0.0745 - val_accuracy: 0.9784\n",
      "Epoch 10/250\n",
      "3750/3750 [==============================] - 25s 7ms/step - loss: 0.0514 - accuracy: 0.9861 - val_loss: 0.0738 - val_accuracy: 0.9783\n",
      "Epoch 11/250\n",
      "3750/3750 [==============================] - 28s 7ms/step - loss: 0.0457 - accuracy: 0.9873 - val_loss: 0.0688 - val_accuracy: 0.9790\n",
      "Epoch 12/250\n",
      "3750/3750 [==============================] - 26s 7ms/step - loss: 0.0405 - accuracy: 0.9893 - val_loss: 0.0665 - val_accuracy: 0.9802\n",
      "Epoch 13/250\n",
      "3750/3750 [==============================] - 27s 7ms/step - loss: 0.0361 - accuracy: 0.9908 - val_loss: 0.0675 - val_accuracy: 0.9793\n",
      "Epoch 14/250\n",
      "3750/3750 [==============================] - 28s 7ms/step - loss: 0.0323 - accuracy: 0.9920 - val_loss: 0.0656 - val_accuracy: 0.9794\n",
      "Epoch 15/250\n",
      "3750/3750 [==============================] - 28s 7ms/step - loss: 0.0289 - accuracy: 0.9928 - val_loss: 0.0690 - val_accuracy: 0.9789\n",
      "Epoch 16/250\n",
      "3750/3750 [==============================] - 27s 7ms/step - loss: 0.0258 - accuracy: 0.9942 - val_loss: 0.0632 - val_accuracy: 0.9807\n",
      "Epoch 17/250\n",
      "3750/3750 [==============================] - 27s 7ms/step - loss: 0.0231 - accuracy: 0.9949 - val_loss: 0.0607 - val_accuracy: 0.9815\n",
      "Epoch 18/250\n",
      "3750/3750 [==============================] - 28s 8ms/step - loss: 0.0208 - accuracy: 0.9954 - val_loss: 0.0649 - val_accuracy: 0.9805\n",
      "Epoch 19/250\n",
      "3750/3750 [==============================] - 27s 7ms/step - loss: 0.0186 - accuracy: 0.9963 - val_loss: 0.0617 - val_accuracy: 0.9812\n",
      "Epoch 20/250\n",
      "3750/3750 [==============================] - 28s 8ms/step - loss: 0.0167 - accuracy: 0.9969 - val_loss: 0.0623 - val_accuracy: 0.9809\n",
      "Epoch 21/250\n",
      "3750/3750 [==============================] - 27s 7ms/step - loss: 0.0151 - accuracy: 0.9976 - val_loss: 0.0619 - val_accuracy: 0.9812\n",
      "Epoch 22/250\n",
      "3750/3750 [==============================] - 29s 8ms/step - loss: 0.0136 - accuracy: 0.9979 - val_loss: 0.0633 - val_accuracy: 0.9817\n",
      "Epoch 23/250\n",
      "3750/3750 [==============================] - 27s 7ms/step - loss: 0.0121 - accuracy: 0.9983 - val_loss: 0.0620 - val_accuracy: 0.9825\n",
      "Epoch 24/250\n",
      "3750/3750 [==============================] - 28s 8ms/step - loss: 0.0110 - accuracy: 0.9985 - val_loss: 0.0625 - val_accuracy: 0.9826\n",
      "Epoch 25/250\n",
      "3750/3750 [==============================] - 28s 7ms/step - loss: 0.0100 - accuracy: 0.9987 - val_loss: 0.0633 - val_accuracy: 0.9821\n",
      "Epoch 26/250\n",
      "3750/3750 [==============================] - 27s 7ms/step - loss: 0.0091 - accuracy: 0.9989 - val_loss: 0.0606 - val_accuracy: 0.9821\n",
      "Epoch 27/250\n",
      "3750/3750 [==============================] - 27s 7ms/step - loss: 0.0082 - accuracy: 0.9992 - val_loss: 0.0600 - val_accuracy: 0.9817\n",
      "Epoch 28/250\n",
      "3750/3750 [==============================] - 28s 8ms/step - loss: 0.0076 - accuracy: 0.9992 - val_loss: 0.0629 - val_accuracy: 0.9814\n",
      "Epoch 29/250\n",
      "3750/3750 [==============================] - 28s 7ms/step - loss: 0.0069 - accuracy: 0.9994 - val_loss: 0.0616 - val_accuracy: 0.9819\n",
      "Epoch 30/250\n",
      "3750/3750 [==============================] - 28s 7ms/step - loss: 0.0063 - accuracy: 0.9995 - val_loss: 0.0609 - val_accuracy: 0.9820\n",
      "Epoch 31/250\n",
      "3750/3750 [==============================] - 28s 8ms/step - loss: 0.0058 - accuracy: 0.9996 - val_loss: 0.0624 - val_accuracy: 0.9825\n",
      "Epoch 32/250\n",
      "3750/3750 [==============================] - 28s 7ms/step - loss: 0.0053 - accuracy: 0.9997 - val_loss: 0.0629 - val_accuracy: 0.9818\n",
      "Epoch 33/250\n",
      "3750/3750 [==============================] - 28s 7ms/step - loss: 0.0049 - accuracy: 0.9998 - val_loss: 0.0625 - val_accuracy: 0.9823\n",
      "Epoch 34/250\n",
      "3750/3750 [==============================] - 28s 7ms/step - loss: 0.0045 - accuracy: 0.9998 - val_loss: 0.0618 - val_accuracy: 0.9821\n",
      "Epoch 35/250\n",
      "3750/3750 [==============================] - 27s 7ms/step - loss: 0.0043 - accuracy: 0.9998 - val_loss: 0.0630 - val_accuracy: 0.9817\n",
      "Epoch 36/250\n",
      "3750/3750 [==============================] - 25s 7ms/step - loss: 0.0040 - accuracy: 0.9999 - val_loss: 0.0635 - val_accuracy: 0.9816\n",
      "Epoch 37/250\n",
      "3750/3750 [==============================] - 25s 7ms/step - loss: 0.0037 - accuracy: 0.9999 - val_loss: 0.0631 - val_accuracy: 0.9819\n",
      "Epoch 38/250\n",
      "3750/3750 [==============================] - 25s 7ms/step - loss: 0.0035 - accuracy: 0.9999 - val_loss: 0.0634 - val_accuracy: 0.9814\n",
      "Epoch 39/250\n",
      "3750/3750 [==============================] - 27s 7ms/step - loss: 0.0033 - accuracy: 0.9999 - val_loss: 0.0652 - val_accuracy: 0.9824\n",
      "Epoch 40/250\n",
      "3750/3750 [==============================] - 25s 7ms/step - loss: 0.0031 - accuracy: 0.9999 - val_loss: 0.0643 - val_accuracy: 0.9824\n",
      "Epoch 41/250\n",
      "3750/3750 [==============================] - 26s 7ms/step - loss: 0.0029 - accuracy: 0.9999 - val_loss: 0.0641 - val_accuracy: 0.9820\n",
      "Epoch 42/250\n",
      "3750/3750 [==============================] - 26s 7ms/step - loss: 0.0027 - accuracy: 1.0000 - val_loss: 0.0639 - val_accuracy: 0.9817\n",
      "Epoch 43/250\n",
      "3750/3750 [==============================] - 26s 7ms/step - loss: 0.0026 - accuracy: 1.0000 - val_loss: 0.0657 - val_accuracy: 0.9826\n",
      "Epoch 44/250\n",
      "3750/3750 [==============================] - 26s 7ms/step - loss: 0.0025 - accuracy: 1.0000 - val_loss: 0.0641 - val_accuracy: 0.9824\n",
      "Epoch 45/250\n",
      "3750/3750 [==============================] - 25s 7ms/step - loss: 0.0023 - accuracy: 1.0000 - val_loss: 0.0649 - val_accuracy: 0.9819\n",
      "Epoch 46/250\n",
      "3750/3750 [==============================] - 26s 7ms/step - loss: 0.0022 - accuracy: 1.0000 - val_loss: 0.0652 - val_accuracy: 0.9820\n",
      "Epoch 47/250\n",
      "3750/3750 [==============================] - 27s 7ms/step - loss: 0.0021 - accuracy: 1.0000 - val_loss: 0.0656 - val_accuracy: 0.9820\n",
      "Epoch 48/250\n",
      "3750/3750 [==============================] - 26s 7ms/step - loss: 0.0020 - accuracy: 1.0000 - val_loss: 0.0663 - val_accuracy: 0.9819\n",
      "Epoch 49/250\n",
      "3750/3750 [==============================] - 25s 7ms/step - loss: 0.0020 - accuracy: 1.0000 - val_loss: 0.0658 - val_accuracy: 0.9819\n",
      "Epoch 50/250\n",
      "3750/3750 [==============================] - 25s 7ms/step - loss: 0.0019 - accuracy: 1.0000 - val_loss: 0.0662 - val_accuracy: 0.9820\n",
      "Epoch 51/250\n",
      "3750/3750 [==============================] - 25s 7ms/step - loss: 0.0018 - accuracy: 1.0000 - val_loss: 0.0658 - val_accuracy: 0.9821\n",
      "Epoch 52/250\n",
      "3750/3750 [==============================] - 25s 7ms/step - loss: 0.0017 - accuracy: 1.0000 - val_loss: 0.0669 - val_accuracy: 0.9824\n",
      "Epoch 53/250\n",
      "3750/3750 [==============================] - 26s 7ms/step - loss: 0.0017 - accuracy: 1.0000 - val_loss: 0.0675 - val_accuracy: 0.9823\n",
      "Epoch 54/250\n",
      "3750/3750 [==============================] - 24s 6ms/step - loss: 0.0016 - accuracy: 1.0000 - val_loss: 0.0674 - val_accuracy: 0.9825\n",
      "Epoch 55/250\n",
      "3750/3750 [==============================] - 23s 6ms/step - loss: 0.0016 - accuracy: 1.0000 - val_loss: 0.0677 - val_accuracy: 0.9822\n",
      "Epoch 56/250\n",
      "3750/3750 [==============================] - 26s 7ms/step - loss: 0.0015 - accuracy: 1.0000 - val_loss: 0.0674 - val_accuracy: 0.9821\n",
      "Epoch 57/250\n",
      "3750/3750 [==============================] - 24s 6ms/step - loss: 0.0015 - accuracy: 1.0000 - val_loss: 0.0679 - val_accuracy: 0.9820\n",
      "Epoch 58/250\n",
      "3750/3750 [==============================] - 24s 6ms/step - loss: 0.0014 - accuracy: 1.0000 - val_loss: 0.0682 - val_accuracy: 0.9823\n",
      "Epoch 59/250\n",
      "3750/3750 [==============================] - 26s 7ms/step - loss: 0.0014 - accuracy: 1.0000 - val_loss: 0.0680 - val_accuracy: 0.9820\n",
      "Epoch 60/250\n",
      "3750/3750 [==============================] - 26s 7ms/step - loss: 0.0013 - accuracy: 1.0000 - val_loss: 0.0680 - val_accuracy: 0.9817\n",
      "Epoch 61/250\n",
      "3750/3750 [==============================] - 26s 7ms/step - loss: 0.0013 - accuracy: 1.0000 - val_loss: 0.0684 - val_accuracy: 0.9821\n",
      "Epoch 62/250\n",
      "3750/3750 [==============================] - 24s 6ms/step - loss: 0.0012 - accuracy: 1.0000 - val_loss: 0.0682 - val_accuracy: 0.9821\n",
      "Epoch 63/250\n",
      "3750/3750 [==============================] - 25s 7ms/step - loss: 0.0012 - accuracy: 1.0000 - val_loss: 0.0687 - val_accuracy: 0.9820\n",
      "Epoch 64/250\n",
      "3750/3750 [==============================] - 25s 7ms/step - loss: 0.0012 - accuracy: 1.0000 - val_loss: 0.0691 - val_accuracy: 0.9818\n",
      "Epoch 65/250\n",
      "3750/3750 [==============================] - 26s 7ms/step - loss: 0.0011 - accuracy: 1.0000 - val_loss: 0.0694 - val_accuracy: 0.9818\n",
      "Epoch 66/250\n",
      "3750/3750 [==============================] - 26s 7ms/step - loss: 0.0011 - accuracy: 1.0000 - val_loss: 0.0688 - val_accuracy: 0.9817\n",
      "Epoch 67/250\n",
      "3750/3750 [==============================] - 25s 7ms/step - loss: 0.0011 - accuracy: 1.0000 - val_loss: 0.0698 - val_accuracy: 0.9821\n",
      "Epoch 68/250\n",
      "3750/3750 [==============================] - 24s 6ms/step - loss: 0.0011 - accuracy: 1.0000 - val_loss: 0.0695 - val_accuracy: 0.9820\n",
      "Epoch 69/250\n",
      "3750/3750 [==============================] - 25s 7ms/step - loss: 0.0010 - accuracy: 1.0000 - val_loss: 0.0691 - val_accuracy: 0.9822\n",
      "Epoch 70/250\n",
      "3750/3750 [==============================] - 24s 7ms/step - loss: 9.9937e-04 - accuracy: 1.0000 - val_loss: 0.0703 - val_accuracy: 0.9819\n",
      "Epoch 71/250\n",
      "3750/3750 [==============================] - 27s 7ms/step - loss: 9.7752e-04 - accuracy: 1.0000 - val_loss: 0.0696 - val_accuracy: 0.9821\n",
      "Epoch 72/250\n",
      "3750/3750 [==============================] - 26s 7ms/step - loss: 9.5243e-04 - accuracy: 1.0000 - val_loss: 0.0700 - val_accuracy: 0.9821\n",
      "Epoch 73/250\n",
      "3750/3750 [==============================] - 26s 7ms/step - loss: 9.3133e-04 - accuracy: 1.0000 - val_loss: 0.0705 - val_accuracy: 0.9819\n",
      "Epoch 74/250\n",
      "3750/3750 [==============================] - 25s 7ms/step - loss: 9.0923e-04 - accuracy: 1.0000 - val_loss: 0.0704 - val_accuracy: 0.9820\n",
      "Epoch 75/250\n",
      "3750/3750 [==============================] - 24s 6ms/step - loss: 8.8947e-04 - accuracy: 1.0000 - val_loss: 0.0706 - val_accuracy: 0.9820\n",
      "Epoch 76/250\n",
      "3750/3750 [==============================] - 24s 6ms/step - loss: 8.6988e-04 - accuracy: 1.0000 - val_loss: 0.0704 - val_accuracy: 0.9821\n",
      "Epoch 77/250\n",
      "3750/3750 [==============================] - 25s 7ms/step - loss: 8.5062e-04 - accuracy: 1.0000 - val_loss: 0.0708 - val_accuracy: 0.9821\n",
      "Epoch 78/250\n",
      "3750/3750 [==============================] - 25s 7ms/step - loss: 8.3160e-04 - accuracy: 1.0000 - val_loss: 0.0707 - val_accuracy: 0.9821\n",
      "Epoch 79/250\n",
      "3750/3750 [==============================] - 24s 6ms/step - loss: 8.1609e-04 - accuracy: 1.0000 - val_loss: 0.0713 - val_accuracy: 0.9823\n",
      "Epoch 80/250\n",
      "3750/3750 [==============================] - 24s 6ms/step - loss: 8.0024e-04 - accuracy: 1.0000 - val_loss: 0.0710 - val_accuracy: 0.9816\n",
      "Epoch 81/250\n",
      "3750/3750 [==============================] - 24s 6ms/step - loss: 7.8004e-04 - accuracy: 1.0000 - val_loss: 0.0711 - val_accuracy: 0.9818\n",
      "Epoch 82/250\n",
      "3750/3750 [==============================] - 24s 7ms/step - loss: 7.6590e-04 - accuracy: 1.0000 - val_loss: 0.0714 - val_accuracy: 0.9822\n",
      "Epoch 83/250\n",
      "3750/3750 [==============================] - 24s 7ms/step - loss: 7.4852e-04 - accuracy: 1.0000 - val_loss: 0.0712 - val_accuracy: 0.9820\n",
      "Epoch 84/250\n",
      "3750/3750 [==============================] - 23s 6ms/step - loss: 7.3525e-04 - accuracy: 1.0000 - val_loss: 0.0714 - val_accuracy: 0.9819\n",
      "Epoch 85/250\n",
      "3750/3750 [==============================] - 24s 6ms/step - loss: 7.2122e-04 - accuracy: 1.0000 - val_loss: 0.0719 - val_accuracy: 0.9821\n",
      "Epoch 86/250\n",
      "3750/3750 [==============================] - 23s 6ms/step - loss: 7.0964e-04 - accuracy: 1.0000 - val_loss: 0.0720 - val_accuracy: 0.9820\n",
      "Epoch 87/250\n",
      "3750/3750 [==============================] - 24s 6ms/step - loss: 6.9487e-04 - accuracy: 1.0000 - val_loss: 0.0722 - val_accuracy: 0.9819\n",
      "Epoch 88/250\n",
      "3750/3750 [==============================] - 25s 7ms/step - loss: 6.8154e-04 - accuracy: 1.0000 - val_loss: 0.0722 - val_accuracy: 0.9820\n",
      "Epoch 89/250\n",
      "3750/3750 [==============================] - 24s 6ms/step - loss: 6.7053e-04 - accuracy: 1.0000 - val_loss: 0.0725 - val_accuracy: 0.9820\n",
      "Epoch 90/250\n",
      "3750/3750 [==============================] - 25s 7ms/step - loss: 6.5867e-04 - accuracy: 1.0000 - val_loss: 0.0724 - val_accuracy: 0.9819\n",
      "Epoch 91/250\n",
      "3750/3750 [==============================] - 24s 6ms/step - loss: 6.4554e-04 - accuracy: 1.0000 - val_loss: 0.0728 - val_accuracy: 0.9818\n",
      "Epoch 92/250\n",
      "3750/3750 [==============================] - 24s 6ms/step - loss: 6.3627e-04 - accuracy: 1.0000 - val_loss: 0.0726 - val_accuracy: 0.9819\n",
      "Epoch 93/250\n",
      "3750/3750 [==============================] - 25s 7ms/step - loss: 6.2311e-04 - accuracy: 1.0000 - val_loss: 0.0725 - val_accuracy: 0.9819\n",
      "Epoch 94/250\n",
      "3750/3750 [==============================] - 24s 6ms/step - loss: 6.1444e-04 - accuracy: 1.0000 - val_loss: 0.0729 - val_accuracy: 0.9820\n",
      "Epoch 95/250\n",
      "3750/3750 [==============================] - 24s 6ms/step - loss: 6.0293e-04 - accuracy: 1.0000 - val_loss: 0.0730 - val_accuracy: 0.9820\n",
      "Epoch 96/250\n",
      "3750/3750 [==============================] - 25s 7ms/step - loss: 5.9341e-04 - accuracy: 1.0000 - val_loss: 0.0735 - val_accuracy: 0.9817\n",
      "Epoch 97/250\n",
      "3750/3750 [==============================] - 24s 6ms/step - loss: 5.8443e-04 - accuracy: 1.0000 - val_loss: 0.0735 - val_accuracy: 0.9819\n",
      "Epoch 98/250\n",
      "3750/3750 [==============================] - 26s 7ms/step - loss: 5.7347e-04 - accuracy: 1.0000 - val_loss: 0.0735 - val_accuracy: 0.9819\n",
      "Epoch 99/250\n",
      "3750/3750 [==============================] - 28s 7ms/step - loss: 5.6623e-04 - accuracy: 1.0000 - val_loss: 0.0731 - val_accuracy: 0.9819\n",
      "Epoch 100/250\n",
      "3750/3750 [==============================] - 27s 7ms/step - loss: 5.5518e-04 - accuracy: 1.0000 - val_loss: 0.0733 - val_accuracy: 0.9819\n",
      "Epoch 101/250\n",
      "3750/3750 [==============================] - 28s 7ms/step - loss: 5.4728e-04 - accuracy: 1.0000 - val_loss: 0.0740 - val_accuracy: 0.9818\n",
      "Epoch 102/250\n",
      "3750/3750 [==============================] - 27s 7ms/step - loss: 5.4082e-04 - accuracy: 1.0000 - val_loss: 0.0736 - val_accuracy: 0.9818\n",
      "Epoch 103/250\n",
      "3750/3750 [==============================] - 25s 7ms/step - loss: 5.3130e-04 - accuracy: 1.0000 - val_loss: 0.0738 - val_accuracy: 0.9821\n",
      "Epoch 104/250\n",
      "3750/3750 [==============================] - 25s 7ms/step - loss: 5.2475e-04 - accuracy: 1.0000 - val_loss: 0.0739 - val_accuracy: 0.9819\n",
      "Epoch 105/250\n",
      "3750/3750 [==============================] - 26s 7ms/step - loss: 5.1600e-04 - accuracy: 1.0000 - val_loss: 0.0739 - val_accuracy: 0.9819\n",
      "Epoch 106/250\n",
      "3750/3750 [==============================] - 26s 7ms/step - loss: 5.0772e-04 - accuracy: 1.0000 - val_loss: 0.0740 - val_accuracy: 0.9822\n",
      "Epoch 107/250\n",
      "3750/3750 [==============================] - 26s 7ms/step - loss: 5.0126e-04 - accuracy: 1.0000 - val_loss: 0.0746 - val_accuracy: 0.9821\n",
      "Epoch 108/250\n",
      "3750/3750 [==============================] - 26s 7ms/step - loss: 4.9359e-04 - accuracy: 1.0000 - val_loss: 0.0745 - val_accuracy: 0.9822\n",
      "Epoch 109/250\n",
      "3750/3750 [==============================] - 25s 7ms/step - loss: 4.8760e-04 - accuracy: 1.0000 - val_loss: 0.0744 - val_accuracy: 0.9819\n",
      "Epoch 110/250\n",
      "3750/3750 [==============================] - 26s 7ms/step - loss: 4.8073e-04 - accuracy: 1.0000 - val_loss: 0.0743 - val_accuracy: 0.9822\n",
      "Epoch 111/250\n",
      "3750/3750 [==============================] - 25s 7ms/step - loss: 4.7337e-04 - accuracy: 1.0000 - val_loss: 0.0745 - val_accuracy: 0.9816\n",
      "Epoch 112/250\n",
      "3750/3750 [==============================] - 25s 7ms/step - loss: 4.6584e-04 - accuracy: 1.0000 - val_loss: 0.0745 - val_accuracy: 0.9818\n",
      "Epoch 113/250\n",
      "3750/3750 [==============================] - 25s 7ms/step - loss: 4.6021e-04 - accuracy: 1.0000 - val_loss: 0.0749 - val_accuracy: 0.9818\n",
      "Epoch 114/250\n",
      "3750/3750 [==============================] - 25s 7ms/step - loss: 4.5522e-04 - accuracy: 1.0000 - val_loss: 0.0749 - val_accuracy: 0.9819\n",
      "Epoch 115/250\n",
      "3750/3750 [==============================] - 24s 6ms/step - loss: 4.4823e-04 - accuracy: 1.0000 - val_loss: 0.0748 - val_accuracy: 0.9818\n",
      "Epoch 116/250\n",
      "3750/3750 [==============================] - 24s 6ms/step - loss: 4.4255e-04 - accuracy: 1.0000 - val_loss: 0.0755 - val_accuracy: 0.9822\n",
      "Epoch 117/250\n",
      "3750/3750 [==============================] - 24s 6ms/step - loss: 4.3789e-04 - accuracy: 1.0000 - val_loss: 0.0753 - val_accuracy: 0.9820\n",
      "Epoch 118/250\n",
      "3750/3750 [==============================] - 24s 7ms/step - loss: 4.3168e-04 - accuracy: 1.0000 - val_loss: 0.0753 - val_accuracy: 0.9822\n",
      "Epoch 119/250\n",
      "3750/3750 [==============================] - 24s 6ms/step - loss: 4.2643e-04 - accuracy: 1.0000 - val_loss: 0.0752 - val_accuracy: 0.9817\n",
      "Epoch 120/250\n",
      "3750/3750 [==============================] - 24s 7ms/step - loss: 4.2074e-04 - accuracy: 1.0000 - val_loss: 0.0754 - val_accuracy: 0.9818\n",
      "Epoch 121/250\n",
      "3750/3750 [==============================] - 24s 6ms/step - loss: 4.1626e-04 - accuracy: 1.0000 - val_loss: 0.0754 - val_accuracy: 0.9820\n",
      "Epoch 122/250\n",
      "3750/3750 [==============================] - 22s 6ms/step - loss: 4.1090e-04 - accuracy: 1.0000 - val_loss: 0.0756 - val_accuracy: 0.9821\n",
      "Epoch 123/250\n",
      "3750/3750 [==============================] - 23s 6ms/step - loss: 4.0511e-04 - accuracy: 1.0000 - val_loss: 0.0760 - val_accuracy: 0.9817\n",
      "Epoch 124/250\n",
      "3750/3750 [==============================] - 25s 7ms/step - loss: 4.0071e-04 - accuracy: 1.0000 - val_loss: 0.0758 - val_accuracy: 0.9819\n",
      "Epoch 125/250\n",
      "3750/3750 [==============================] - 23s 6ms/step - loss: 3.9560e-04 - accuracy: 1.0000 - val_loss: 0.0755 - val_accuracy: 0.9817\n",
      "Epoch 126/250\n",
      "3750/3750 [==============================] - 24s 6ms/step - loss: 3.9069e-04 - accuracy: 1.0000 - val_loss: 0.0758 - val_accuracy: 0.9818\n",
      "Epoch 127/250\n",
      "3750/3750 [==============================] - 23s 6ms/step - loss: 3.8670e-04 - accuracy: 1.0000 - val_loss: 0.0760 - val_accuracy: 0.9820\n",
      "Epoch 128/250\n",
      "3750/3750 [==============================] - 24s 6ms/step - loss: 3.8188e-04 - accuracy: 1.0000 - val_loss: 0.0760 - val_accuracy: 0.9821\n",
      "Epoch 129/250\n",
      "3750/3750 [==============================] - 25s 7ms/step - loss: 3.7748e-04 - accuracy: 1.0000 - val_loss: 0.0762 - val_accuracy: 0.9819\n",
      "Epoch 130/250\n",
      "3750/3750 [==============================] - 24s 6ms/step - loss: 3.7317e-04 - accuracy: 1.0000 - val_loss: 0.0763 - val_accuracy: 0.9822\n",
      "Epoch 131/250\n",
      "3750/3750 [==============================] - 25s 7ms/step - loss: 3.6964e-04 - accuracy: 1.0000 - val_loss: 0.0763 - val_accuracy: 0.9821\n",
      "Epoch 132/250\n",
      "3750/3750 [==============================] - 25s 7ms/step - loss: 3.6539e-04 - accuracy: 1.0000 - val_loss: 0.0765 - val_accuracy: 0.9821\n",
      "Epoch 133/250\n",
      "3750/3750 [==============================] - 24s 6ms/step - loss: 3.6049e-04 - accuracy: 1.0000 - val_loss: 0.0767 - val_accuracy: 0.9821\n",
      "Epoch 134/250\n",
      "3750/3750 [==============================] - 25s 7ms/step - loss: 3.5665e-04 - accuracy: 1.0000 - val_loss: 0.0766 - val_accuracy: 0.9818\n",
      "Epoch 135/250\n",
      "3750/3750 [==============================] - 25s 7ms/step - loss: 3.5366e-04 - accuracy: 1.0000 - val_loss: 0.0767 - val_accuracy: 0.9819\n",
      "Epoch 136/250\n",
      "3750/3750 [==============================] - 24s 6ms/step - loss: 3.4917e-04 - accuracy: 1.0000 - val_loss: 0.0769 - val_accuracy: 0.9821\n",
      "Epoch 137/250\n",
      "3750/3750 [==============================] - 23s 6ms/step - loss: 3.4582e-04 - accuracy: 1.0000 - val_loss: 0.0768 - val_accuracy: 0.9821\n",
      "Epoch 138/250\n",
      "3750/3750 [==============================] - 24s 6ms/step - loss: 3.4181e-04 - accuracy: 1.0000 - val_loss: 0.0770 - val_accuracy: 0.9821\n",
      "Epoch 139/250\n",
      "3750/3750 [==============================] - 25s 7ms/step - loss: 3.3857e-04 - accuracy: 1.0000 - val_loss: 0.0769 - val_accuracy: 0.9819\n",
      "Epoch 140/250\n",
      "3750/3750 [==============================] - 24s 6ms/step - loss: 3.3533e-04 - accuracy: 1.0000 - val_loss: 0.0770 - val_accuracy: 0.9819\n",
      "Epoch 141/250\n",
      "3750/3750 [==============================] - 25s 7ms/step - loss: 3.3185e-04 - accuracy: 1.0000 - val_loss: 0.0770 - val_accuracy: 0.9819\n",
      "Epoch 142/250\n",
      "3750/3750 [==============================] - 25s 7ms/step - loss: 3.2863e-04 - accuracy: 1.0000 - val_loss: 0.0773 - val_accuracy: 0.9821\n",
      "Epoch 143/250\n",
      "3750/3750 [==============================] - 25s 7ms/step - loss: 3.2500e-04 - accuracy: 1.0000 - val_loss: 0.0775 - val_accuracy: 0.9820\n",
      "Epoch 144/250\n",
      "3750/3750 [==============================] - 27s 7ms/step - loss: 3.2112e-04 - accuracy: 1.0000 - val_loss: 0.0774 - val_accuracy: 0.9821\n",
      "Epoch 145/250\n",
      "3750/3750 [==============================] - 27s 7ms/step - loss: 3.1830e-04 - accuracy: 1.0000 - val_loss: 0.0772 - val_accuracy: 0.9818\n",
      "Epoch 146/250\n",
      "3750/3750 [==============================] - 27s 7ms/step - loss: 3.1493e-04 - accuracy: 1.0000 - val_loss: 0.0777 - val_accuracy: 0.9822\n",
      "Epoch 147/250\n",
      "3750/3750 [==============================] - 27s 7ms/step - loss: 3.1223e-04 - accuracy: 1.0000 - val_loss: 0.0775 - val_accuracy: 0.9820\n",
      "Epoch 148/250\n",
      "3750/3750 [==============================] - 27s 7ms/step - loss: 3.0849e-04 - accuracy: 1.0000 - val_loss: 0.0772 - val_accuracy: 0.9818\n",
      "Epoch 149/250\n",
      "3750/3750 [==============================] - 26s 7ms/step - loss: 3.0637e-04 - accuracy: 1.0000 - val_loss: 0.0776 - val_accuracy: 0.9819\n",
      "Epoch 150/250\n",
      "3750/3750 [==============================] - 26s 7ms/step - loss: 3.0313e-04 - accuracy: 1.0000 - val_loss: 0.0777 - val_accuracy: 0.9818\n",
      "Epoch 151/250\n",
      "3750/3750 [==============================] - 26s 7ms/step - loss: 3.0000e-04 - accuracy: 1.0000 - val_loss: 0.0777 - val_accuracy: 0.9822\n",
      "Epoch 152/250\n",
      "3750/3750 [==============================] - 28s 7ms/step - loss: 2.9720e-04 - accuracy: 1.0000 - val_loss: 0.0781 - val_accuracy: 0.9820\n",
      "Epoch 153/250\n",
      "3750/3750 [==============================] - 26s 7ms/step - loss: 2.9388e-04 - accuracy: 1.0000 - val_loss: 0.0782 - val_accuracy: 0.9817\n",
      "Epoch 154/250\n",
      "3750/3750 [==============================] - 27s 7ms/step - loss: 2.9189e-04 - accuracy: 1.0000 - val_loss: 0.0782 - val_accuracy: 0.9821\n",
      "Epoch 155/250\n",
      "3750/3750 [==============================] - 28s 7ms/step - loss: 2.8909e-04 - accuracy: 1.0000 - val_loss: 0.0781 - val_accuracy: 0.9822\n",
      "Epoch 156/250\n",
      "3750/3750 [==============================] - 28s 7ms/step - loss: 2.8652e-04 - accuracy: 1.0000 - val_loss: 0.0780 - val_accuracy: 0.9821\n",
      "Epoch 157/250\n",
      "3750/3750 [==============================] - 26s 7ms/step - loss: 2.8377e-04 - accuracy: 1.0000 - val_loss: 0.0780 - val_accuracy: 0.9822\n",
      "Epoch 158/250\n",
      "3750/3750 [==============================] - 26s 7ms/step - loss: 2.8172e-04 - accuracy: 1.0000 - val_loss: 0.0783 - val_accuracy: 0.9820\n",
      "Epoch 159/250\n",
      "3750/3750 [==============================] - 26s 7ms/step - loss: 2.7912e-04 - accuracy: 1.0000 - val_loss: 0.0784 - val_accuracy: 0.9820\n",
      "Epoch 160/250\n",
      "3750/3750 [==============================] - 26s 7ms/step - loss: 2.7633e-04 - accuracy: 1.0000 - val_loss: 0.0787 - val_accuracy: 0.9822\n",
      "Epoch 161/250\n",
      "3750/3750 [==============================] - 26s 7ms/step - loss: 2.7394e-04 - accuracy: 1.0000 - val_loss: 0.0784 - val_accuracy: 0.9818\n",
      "Epoch 162/250\n",
      "3750/3750 [==============================] - 26s 7ms/step - loss: 2.7159e-04 - accuracy: 1.0000 - val_loss: 0.0784 - val_accuracy: 0.9818\n",
      "Epoch 163/250\n",
      "3750/3750 [==============================] - 28s 8ms/step - loss: 2.6937e-04 - accuracy: 1.0000 - val_loss: 0.0788 - val_accuracy: 0.9822\n",
      "Epoch 164/250\n",
      "3750/3750 [==============================] - 27s 7ms/step - loss: 2.6677e-04 - accuracy: 1.0000 - val_loss: 0.0787 - val_accuracy: 0.9822\n",
      "Epoch 165/250\n",
      "3750/3750 [==============================] - 28s 7ms/step - loss: 2.6464e-04 - accuracy: 1.0000 - val_loss: 0.0786 - val_accuracy: 0.9820\n",
      "Epoch 166/250\n",
      "3750/3750 [==============================] - 27s 7ms/step - loss: 2.6170e-04 - accuracy: 1.0000 - val_loss: 0.0789 - val_accuracy: 0.9821\n",
      "Epoch 167/250\n",
      "3750/3750 [==============================] - 27s 7ms/step - loss: 2.6051e-04 - accuracy: 1.0000 - val_loss: 0.0788 - val_accuracy: 0.9818\n",
      "Epoch 168/250\n",
      "3750/3750 [==============================] - 25s 7ms/step - loss: 2.5756e-04 - accuracy: 1.0000 - val_loss: 0.0791 - val_accuracy: 0.9822\n",
      "Epoch 169/250\n",
      "3750/3750 [==============================] - 25s 7ms/step - loss: 2.5536e-04 - accuracy: 1.0000 - val_loss: 0.0789 - val_accuracy: 0.9821\n",
      "Epoch 170/250\n",
      "3750/3750 [==============================] - 25s 7ms/step - loss: 2.5338e-04 - accuracy: 1.0000 - val_loss: 0.0790 - val_accuracy: 0.9823\n",
      "Epoch 171/250\n",
      "3750/3750 [==============================] - 26s 7ms/step - loss: 2.5162e-04 - accuracy: 1.0000 - val_loss: 0.0792 - val_accuracy: 0.9819\n",
      "Epoch 172/250\n",
      "3750/3750 [==============================] - 28s 7ms/step - loss: 2.4932e-04 - accuracy: 1.0000 - val_loss: 0.0791 - val_accuracy: 0.9819\n",
      "Epoch 173/250\n",
      "3750/3750 [==============================] - 26s 7ms/step - loss: 2.4760e-04 - accuracy: 1.0000 - val_loss: 0.0793 - val_accuracy: 0.9819\n",
      "Epoch 174/250\n",
      "3750/3750 [==============================] - 27s 7ms/step - loss: 2.4500e-04 - accuracy: 1.0000 - val_loss: 0.0792 - val_accuracy: 0.9818\n",
      "Epoch 175/250\n",
      "3750/3750 [==============================] - 28s 7ms/step - loss: 2.4336e-04 - accuracy: 1.0000 - val_loss: 0.0792 - val_accuracy: 0.9818\n",
      "Epoch 176/250\n",
      "3750/3750 [==============================] - 27s 7ms/step - loss: 2.4157e-04 - accuracy: 1.0000 - val_loss: 0.0792 - val_accuracy: 0.9820\n",
      "Epoch 177/250\n",
      "3750/3750 [==============================] - 27s 7ms/step - loss: 2.3916e-04 - accuracy: 1.0000 - val_loss: 0.0792 - val_accuracy: 0.9820\n",
      "Epoch 178/250\n",
      "3750/3750 [==============================] - 25s 7ms/step - loss: 2.3777e-04 - accuracy: 1.0000 - val_loss: 0.0795 - val_accuracy: 0.9821\n",
      "Epoch 179/250\n",
      "3750/3750 [==============================] - 27s 7ms/step - loss: 2.3608e-04 - accuracy: 1.0000 - val_loss: 0.0794 - val_accuracy: 0.9823\n",
      "Epoch 180/250\n",
      "3750/3750 [==============================] - 28s 7ms/step - loss: 2.3387e-04 - accuracy: 1.0000 - val_loss: 0.0794 - val_accuracy: 0.9819\n",
      "Epoch 181/250\n",
      "3750/3750 [==============================] - 28s 8ms/step - loss: 2.3192e-04 - accuracy: 1.0000 - val_loss: 0.0797 - val_accuracy: 0.9819\n",
      "Epoch 182/250\n",
      "3750/3750 [==============================] - 26s 7ms/step - loss: 2.3010e-04 - accuracy: 1.0000 - val_loss: 0.0796 - val_accuracy: 0.9823\n",
      "Epoch 183/250\n",
      "3750/3750 [==============================] - 27s 7ms/step - loss: 2.2863e-04 - accuracy: 1.0000 - val_loss: 0.0795 - val_accuracy: 0.9817\n",
      "Epoch 184/250\n",
      "3750/3750 [==============================] - 28s 7ms/step - loss: 2.2664e-04 - accuracy: 1.0000 - val_loss: 0.0798 - val_accuracy: 0.9821\n",
      "Epoch 185/250\n",
      "3750/3750 [==============================] - 27s 7ms/step - loss: 2.2499e-04 - accuracy: 1.0000 - val_loss: 0.0796 - val_accuracy: 0.9818\n",
      "Epoch 186/250\n",
      "3750/3750 [==============================] - 28s 7ms/step - loss: 2.2329e-04 - accuracy: 1.0000 - val_loss: 0.0797 - val_accuracy: 0.9821\n",
      "Epoch 187/250\n",
      "3750/3750 [==============================] - 27s 7ms/step - loss: 2.2214e-04 - accuracy: 1.0000 - val_loss: 0.0799 - val_accuracy: 0.9820\n",
      "Epoch 188/250\n",
      "3750/3750 [==============================] - 27s 7ms/step - loss: 2.1995e-04 - accuracy: 1.0000 - val_loss: 0.0800 - val_accuracy: 0.9821\n",
      "Epoch 189/250\n",
      "3750/3750 [==============================] - 27s 7ms/step - loss: 2.1844e-04 - accuracy: 1.0000 - val_loss: 0.0801 - val_accuracy: 0.9820\n",
      "Epoch 190/250\n",
      "3750/3750 [==============================] - 27s 7ms/step - loss: 2.1707e-04 - accuracy: 1.0000 - val_loss: 0.0801 - val_accuracy: 0.9820\n",
      "Epoch 191/250\n",
      "3750/3750 [==============================] - 27s 7ms/step - loss: 2.1528e-04 - accuracy: 1.0000 - val_loss: 0.0802 - val_accuracy: 0.9821\n",
      "Epoch 192/250\n",
      "3750/3750 [==============================] - 27s 7ms/step - loss: 2.1368e-04 - accuracy: 1.0000 - val_loss: 0.0803 - val_accuracy: 0.9821\n",
      "Epoch 193/250\n",
      "3750/3750 [==============================] - 27s 7ms/step - loss: 2.1209e-04 - accuracy: 1.0000 - val_loss: 0.0802 - val_accuracy: 0.9820\n",
      "Epoch 194/250\n",
      "3750/3750 [==============================] - 27s 7ms/step - loss: 2.1035e-04 - accuracy: 1.0000 - val_loss: 0.0803 - val_accuracy: 0.9821\n",
      "Epoch 195/250\n",
      "3750/3750 [==============================] - 26s 7ms/step - loss: 2.0909e-04 - accuracy: 1.0000 - val_loss: 0.0804 - val_accuracy: 0.9821\n",
      "Epoch 196/250\n",
      "3750/3750 [==============================] - 27s 7ms/step - loss: 2.0780e-04 - accuracy: 1.0000 - val_loss: 0.0805 - val_accuracy: 0.9820\n",
      "Epoch 197/250\n",
      "3750/3750 [==============================] - 25s 7ms/step - loss: 2.0636e-04 - accuracy: 1.0000 - val_loss: 0.0803 - val_accuracy: 0.9821\n",
      "Epoch 198/250\n",
      "3750/3750 [==============================] - 27s 7ms/step - loss: 2.0497e-04 - accuracy: 1.0000 - val_loss: 0.0805 - val_accuracy: 0.9821\n",
      "Epoch 199/250\n",
      "3750/3750 [==============================] - 26s 7ms/step - loss: 2.0310e-04 - accuracy: 1.0000 - val_loss: 0.0805 - val_accuracy: 0.9818\n",
      "Epoch 200/250\n",
      "3750/3750 [==============================] - 26s 7ms/step - loss: 2.0211e-04 - accuracy: 1.0000 - val_loss: 0.0807 - val_accuracy: 0.9821\n",
      "Epoch 201/250\n",
      "3750/3750 [==============================] - 27s 7ms/step - loss: 2.0065e-04 - accuracy: 1.0000 - val_loss: 0.0806 - val_accuracy: 0.9822\n",
      "Epoch 202/250\n",
      "3750/3750 [==============================] - 27s 7ms/step - loss: 1.9924e-04 - accuracy: 1.0000 - val_loss: 0.0808 - val_accuracy: 0.9819\n",
      "Epoch 203/250\n",
      "3750/3750 [==============================] - 26s 7ms/step - loss: 1.9786e-04 - accuracy: 1.0000 - val_loss: 0.0807 - val_accuracy: 0.9820\n",
      "Epoch 204/250\n",
      "3750/3750 [==============================] - 27s 7ms/step - loss: 1.9660e-04 - accuracy: 1.0000 - val_loss: 0.0810 - val_accuracy: 0.9823\n",
      "Epoch 205/250\n",
      "3750/3750 [==============================] - 24s 6ms/step - loss: 1.9505e-04 - accuracy: 1.0000 - val_loss: 0.0808 - val_accuracy: 0.9822\n",
      "Epoch 206/250\n",
      "3750/3750 [==============================] - 25s 7ms/step - loss: 1.9384e-04 - accuracy: 1.0000 - val_loss: 0.0809 - val_accuracy: 0.9819\n",
      "Epoch 207/250\n",
      "3750/3750 [==============================] - 24s 6ms/step - loss: 1.9284e-04 - accuracy: 1.0000 - val_loss: 0.0810 - val_accuracy: 0.9821\n",
      "Epoch 208/250\n",
      "3750/3750 [==============================] - 24s 6ms/step - loss: 1.9146e-04 - accuracy: 1.0000 - val_loss: 0.0810 - val_accuracy: 0.9822\n",
      "Epoch 209/250\n",
      "3750/3750 [==============================] - 25s 7ms/step - loss: 1.9007e-04 - accuracy: 1.0000 - val_loss: 0.0810 - val_accuracy: 0.9821\n",
      "Epoch 210/250\n",
      "3750/3750 [==============================] - 25s 7ms/step - loss: 1.8885e-04 - accuracy: 1.0000 - val_loss: 0.0813 - val_accuracy: 0.9820\n",
      "Epoch 211/250\n",
      "3750/3750 [==============================] - 26s 7ms/step - loss: 1.8759e-04 - accuracy: 1.0000 - val_loss: 0.0812 - val_accuracy: 0.9821\n",
      "Epoch 212/250\n",
      "3750/3750 [==============================] - 23s 6ms/step - loss: 1.8626e-04 - accuracy: 1.0000 - val_loss: 0.0812 - val_accuracy: 0.9819\n",
      "Epoch 213/250\n",
      "3750/3750 [==============================] - 25s 7ms/step - loss: 1.8523e-04 - accuracy: 1.0000 - val_loss: 0.0812 - val_accuracy: 0.9821\n",
      "Epoch 214/250\n",
      "3750/3750 [==============================] - 26s 7ms/step - loss: 1.8360e-04 - accuracy: 1.0000 - val_loss: 0.0814 - val_accuracy: 0.9823\n",
      "Epoch 215/250\n",
      "3750/3750 [==============================] - 25s 7ms/step - loss: 1.8286e-04 - accuracy: 1.0000 - val_loss: 0.0813 - val_accuracy: 0.9818\n",
      "Epoch 216/250\n",
      "3750/3750 [==============================] - 25s 7ms/step - loss: 1.8177e-04 - accuracy: 1.0000 - val_loss: 0.0814 - val_accuracy: 0.9818\n",
      "Epoch 217/250\n",
      "3750/3750 [==============================] - 26s 7ms/step - loss: 1.8064e-04 - accuracy: 1.0000 - val_loss: 0.0813 - val_accuracy: 0.9821\n",
      "Epoch 218/250\n",
      "3750/3750 [==============================] - 26s 7ms/step - loss: 1.7934e-04 - accuracy: 1.0000 - val_loss: 0.0814 - val_accuracy: 0.9823\n",
      "Epoch 219/250\n",
      "3750/3750 [==============================] - 25s 7ms/step - loss: 1.7813e-04 - accuracy: 1.0000 - val_loss: 0.0815 - val_accuracy: 0.9819\n",
      "Epoch 220/250\n",
      "3750/3750 [==============================] - 25s 7ms/step - loss: 1.7703e-04 - accuracy: 1.0000 - val_loss: 0.0815 - val_accuracy: 0.9818\n",
      "Epoch 221/250\n",
      "3750/3750 [==============================] - 25s 7ms/step - loss: 1.7614e-04 - accuracy: 1.0000 - val_loss: 0.0816 - val_accuracy: 0.9819\n",
      "Epoch 222/250\n",
      "3750/3750 [==============================] - 25s 7ms/step - loss: 1.7465e-04 - accuracy: 1.0000 - val_loss: 0.0816 - val_accuracy: 0.9823\n",
      "Epoch 223/250\n",
      "3750/3750 [==============================] - 25s 7ms/step - loss: 1.7401e-04 - accuracy: 1.0000 - val_loss: 0.0817 - val_accuracy: 0.9819\n",
      "Epoch 224/250\n",
      "3750/3750 [==============================] - 26s 7ms/step - loss: 1.7292e-04 - accuracy: 1.0000 - val_loss: 0.0817 - val_accuracy: 0.9817\n",
      "Epoch 225/250\n",
      "3750/3750 [==============================] - 24s 7ms/step - loss: 1.7168e-04 - accuracy: 1.0000 - val_loss: 0.0819 - val_accuracy: 0.9823\n",
      "Epoch 226/250\n",
      "3750/3750 [==============================] - 27s 7ms/step - loss: 1.7078e-04 - accuracy: 1.0000 - val_loss: 0.0817 - val_accuracy: 0.9821\n",
      "Epoch 227/250\n",
      "3750/3750 [==============================] - 26s 7ms/step - loss: 1.6963e-04 - accuracy: 1.0000 - val_loss: 0.0819 - val_accuracy: 0.9820\n",
      "Epoch 228/250\n",
      "3750/3750 [==============================] - 25s 7ms/step - loss: 1.6844e-04 - accuracy: 1.0000 - val_loss: 0.0819 - val_accuracy: 0.9820\n",
      "Epoch 229/250\n",
      "3750/3750 [==============================] - 25s 7ms/step - loss: 1.6761e-04 - accuracy: 1.0000 - val_loss: 0.0819 - val_accuracy: 0.9820\n",
      "Epoch 230/250\n",
      "3750/3750 [==============================] - 26s 7ms/step - loss: 1.6657e-04 - accuracy: 1.0000 - val_loss: 0.0820 - val_accuracy: 0.9821\n",
      "Epoch 231/250\n",
      "3750/3750 [==============================] - 26s 7ms/step - loss: 1.6570e-04 - accuracy: 1.0000 - val_loss: 0.0819 - val_accuracy: 0.9820\n",
      "Epoch 232/250\n",
      "3750/3750 [==============================] - 26s 7ms/step - loss: 1.6482e-04 - accuracy: 1.0000 - val_loss: 0.0821 - val_accuracy: 0.9821\n",
      "Epoch 233/250\n",
      "3750/3750 [==============================] - 25s 7ms/step - loss: 1.6376e-04 - accuracy: 1.0000 - val_loss: 0.0822 - val_accuracy: 0.9821\n",
      "Epoch 234/250\n",
      "3750/3750 [==============================] - 26s 7ms/step - loss: 1.6284e-04 - accuracy: 1.0000 - val_loss: 0.0821 - val_accuracy: 0.9821\n",
      "Epoch 235/250\n",
      "3750/3750 [==============================] - 26s 7ms/step - loss: 1.6195e-04 - accuracy: 1.0000 - val_loss: 0.0821 - val_accuracy: 0.9820\n",
      "Epoch 236/250\n",
      "3750/3750 [==============================] - 27s 7ms/step - loss: 1.6088e-04 - accuracy: 1.0000 - val_loss: 0.0823 - val_accuracy: 0.9822\n",
      "Epoch 237/250\n",
      "3750/3750 [==============================] - 27s 7ms/step - loss: 1.6013e-04 - accuracy: 1.0000 - val_loss: 0.0822 - val_accuracy: 0.9820\n",
      "Epoch 238/250\n",
      "3750/3750 [==============================] - 28s 7ms/step - loss: 1.5897e-04 - accuracy: 1.0000 - val_loss: 0.0823 - val_accuracy: 0.9819\n",
      "Epoch 239/250\n",
      "3750/3750 [==============================] - 28s 7ms/step - loss: 1.5795e-04 - accuracy: 1.0000 - val_loss: 0.0824 - val_accuracy: 0.9821\n",
      "Epoch 240/250\n",
      "3750/3750 [==============================] - 28s 8ms/step - loss: 1.5737e-04 - accuracy: 1.0000 - val_loss: 0.0823 - val_accuracy: 0.9818\n",
      "Epoch 241/250\n",
      "3750/3750 [==============================] - 28s 8ms/step - loss: 1.5637e-04 - accuracy: 1.0000 - val_loss: 0.0825 - val_accuracy: 0.9820\n",
      "Epoch 242/250\n",
      "3750/3750 [==============================] - 30s 8ms/step - loss: 1.5552e-04 - accuracy: 1.0000 - val_loss: 0.0824 - val_accuracy: 0.9819\n",
      "Epoch 243/250\n",
      "3750/3750 [==============================] - 27s 7ms/step - loss: 1.5455e-04 - accuracy: 1.0000 - val_loss: 0.0826 - val_accuracy: 0.9823\n",
      "Epoch 244/250\n",
      "3750/3750 [==============================] - 29s 8ms/step - loss: 1.5391e-04 - accuracy: 1.0000 - val_loss: 0.0826 - val_accuracy: 0.9820\n",
      "Epoch 245/250\n",
      "3750/3750 [==============================] - 28s 8ms/step - loss: 1.5296e-04 - accuracy: 1.0000 - val_loss: 0.0826 - val_accuracy: 0.9820\n",
      "Epoch 246/250\n",
      "3750/3750 [==============================] - 28s 8ms/step - loss: 1.5211e-04 - accuracy: 1.0000 - val_loss: 0.0826 - val_accuracy: 0.9818\n",
      "Epoch 247/250\n",
      "3750/3750 [==============================] - 27s 7ms/step - loss: 1.5139e-04 - accuracy: 1.0000 - val_loss: 0.0827 - val_accuracy: 0.9821\n",
      "Epoch 248/250\n",
      "3750/3750 [==============================] - 27s 7ms/step - loss: 1.5048e-04 - accuracy: 1.0000 - val_loss: 0.0826 - val_accuracy: 0.9820\n",
      "Epoch 249/250\n",
      "3750/3750 [==============================] - 30s 8ms/step - loss: 1.4956e-04 - accuracy: 1.0000 - val_loss: 0.0828 - val_accuracy: 0.9821\n",
      "Epoch 250/250\n",
      "3750/3750 [==============================] - 29s 8ms/step - loss: 1.4899e-04 - accuracy: 1.0000 - val_loss: 0.0829 - val_accuracy: 0.9819\n"
     ]
    }
   ],
   "source": [
    "history1 = model.fit(trainX,trainY,validation_data=(testX,testY),epochs=250, batch_size=16)"
   ]
  },
  {
   "cell_type": "code",
   "execution_count": 17,
   "metadata": {
    "colab": {
     "base_uri": "https://localhost:8080/"
    },
    "id": "KiICdGWTaVdL",
    "outputId": "38aedf44-5a28-49bb-b69e-62d958848936"
   },
   "outputs": [
    {
     "name": "stdout",
     "output_type": "stream",
     "text": [
      "313/313 [==============================] - 2s 7ms/step\n"
     ]
    }
   ],
   "source": [
    "y_pred = model.predict(testX)"
   ]
  },
  {
   "cell_type": "code",
   "execution_count": 67,
   "metadata": {
    "colab": {
     "base_uri": "https://localhost:8080/",
     "height": 283
    },
    "id": "omIBcFloTnD9",
    "outputId": "edfd6545-dca9-4e55-bd91-02f0e257d4ca"
   },
   "outputs": [
    {
     "data": {
      "text/plain": [
       "[<matplotlib.lines.Line2D at 0x7f954d349a90>]"
      ]
     },
     "execution_count": 67,
     "metadata": {},
     "output_type": "execute_result"
    },
    {
     "data": {
      "image/png": "[encoded data removed]",
      "text/plain": [
       "<Figure size 432x288 with 1 Axes>"
      ]
     },
     "metadata": {
      "needs_background": "light"
     },
     "output_type": "display_data"
    }
   ],
   "source": [
    "plt.figure()\n",
    "plt.plot(history1.history[\"loss\"], label=\"train\")\n",
    "plt.plot(history1.history[\"val_loss\"], label=\"test\")"
   ]
  },
  {
   "cell_type": "code",
   "execution_count": 68,
   "metadata": {
    "colab": {
     "base_uri": "https://localhost:8080/",
     "height": 283
    },
    "id": "wF-0RQFfTsTE",
    "outputId": "a3b13cd9-5a8e-441c-e03e-67cd6e7f24d2"
   },
   "outputs": [
    {
     "data": {
      "text/plain": [
       "[<matplotlib.lines.Line2D at 0x7f954d2b47d0>]"
      ]
     },
     "execution_count": 68,
     "metadata": {},
     "output_type": "execute_result"
    },
    {
     "data": {
      "image/png": "[encoded data removed]",
      "text/plain": [
       "<Figure size 432x288 with 1 Axes>"
      ]
     },
     "metadata": {
      "needs_background": "light"
     },
     "output_type": "display_data"
    }
   ],
   "source": [
    "plt.plot(history1.history[\"accuracy\"],label = \"train\")\n",
    "plt.plot(history1.history[\"val_accuracy\"],label = 'test')"
   ]
  },
  {
   "cell_type": "code",
   "execution_count": 66,
   "metadata": {
    "colab": {
     "base_uri": "https://localhost:8080/",
     "height": 265
    },
    "id": "ouWKKupPaViK",
    "outputId": "b1d61d62-82ec-4f47-afd5-a520dc9f879b"
   },
   "outputs": [
    {
     "data": {
      "image/png": "[encoded data removed]",
      "text/plain": [
       "<Figure size 432x288 with 1 Axes>"
      ]
     },
     "metadata": {
      "needs_background": "light"
     },
     "output_type": "display_data"
    }
   ],
   "source": [
    "plt.figure()\n",
    "plt.plot(history1.history[\"loss\"], label=\"train\")\n",
    "plt.plot(history1.history[\"val_loss\"], label=\"test\")\n",
    "plt.plot(history1.history[\"accuracy\"],label = \"train\")\n",
    "plt.plot(history1.history[\"val_accuracy\"],label = 'test')\n",
    "plt.legend()\n",
    "plt.show()"
   ]
  },
  {
   "cell_type": "code",
   "execution_count": 19,
   "metadata": {
    "id": "0j4U9d13zRe0"
   },
   "outputs": [],
   "source": [
    "modela = Sequential()\n",
    "modela.add(Dense(500,input_dim=784,kernel_regularizer=l2(0.07),activation='relu'))\n",
    "modela.add(Dense(500, activation='relu'))\n",
    "modela.add(Dropout(0.2))\n",
    "modela.add(Dense(10,activation='softmax'))"
   ]
  },
  {
   "cell_type": "code",
   "execution_count": 20,
   "metadata": {
    "id": "IuSkkh6jzZzC"
   },
   "outputs": [],
   "source": [
    "modela.compile(loss='categorical_crossentropy',optimizer='sgd',metrics=['accuracy'])"
   ]
  },
  {
   "cell_type": "code",
   "execution_count": 21,
   "metadata": {
    "colab": {
     "base_uri": "https://localhost:8080/"
    },
    "id": "LbErM9KBzZ7H",
    "outputId": "d0f582a6-1449-491a-ee25-f479cab83a1b"
   },
   "outputs": [
    {
     "name": "stdout",
     "output_type": "stream",
     "text": [
      "Epoch 1/250\n",
      "3750/3750 [==============================] - 36s 9ms/step - loss: 4.7943 - accuracy: 0.8624 - val_loss: 0.4972 - val_accuracy: 0.9095\n",
      "Epoch 2/250\n",
      "3750/3750 [==============================] - 34s 9ms/step - loss: 0.5002 - accuracy: 0.9016 - val_loss: 0.4418 - val_accuracy: 0.9154\n",
      "Epoch 3/250\n",
      "3750/3750 [==============================] - 34s 9ms/step - loss: 0.4541 - accuracy: 0.9105 - val_loss: 0.4132 - val_accuracy: 0.9183\n",
      "Epoch 4/250\n",
      "3750/3750 [==============================] - 36s 10ms/step - loss: 0.4285 - accuracy: 0.9158 - val_loss: 0.3758 - val_accuracy: 0.9300\n",
      "Epoch 5/250\n",
      "3750/3750 [==============================] - 34s 9ms/step - loss: 0.4094 - accuracy: 0.9219 - val_loss: 0.3819 - val_accuracy: 0.9306\n",
      "Epoch 6/250\n",
      "3750/3750 [==============================] - 36s 9ms/step - loss: 0.3996 - accuracy: 0.9242 - val_loss: 0.3515 - val_accuracy: 0.9416\n",
      "Epoch 7/250\n",
      "3750/3750 [==============================] - 35s 9ms/step - loss: 0.3936 - accuracy: 0.9259 - val_loss: 0.4190 - val_accuracy: 0.9159\n",
      "Epoch 8/250\n",
      "3750/3750 [==============================] - 33s 9ms/step - loss: 0.3872 - accuracy: 0.9287 - val_loss: 0.3588 - val_accuracy: 0.9360\n",
      "Epoch 9/250\n",
      "3750/3750 [==============================] - 35s 9ms/step - loss: 0.3850 - accuracy: 0.9297 - val_loss: 0.3577 - val_accuracy: 0.9409\n",
      "Epoch 10/250\n",
      "3750/3750 [==============================] - 37s 10ms/step - loss: 0.3848 - accuracy: 0.9290 - val_loss: 0.3828 - val_accuracy: 0.9338\n",
      "Epoch 11/250\n",
      "3750/3750 [==============================] - 37s 10ms/step - loss: 0.3838 - accuracy: 0.9303 - val_loss: 0.3475 - val_accuracy: 0.9400\n",
      "Epoch 12/250\n",
      "3750/3750 [==============================] - 38s 10ms/step - loss: 0.3818 - accuracy: 0.9304 - val_loss: 0.3765 - val_accuracy: 0.9340\n",
      "Epoch 13/250\n",
      "3750/3750 [==============================] - 33s 9ms/step - loss: 0.3799 - accuracy: 0.9327 - val_loss: 0.3688 - val_accuracy: 0.9363\n",
      "Epoch 14/250\n",
      "3750/3750 [==============================] - 35s 9ms/step - loss: 0.3819 - accuracy: 0.9318 - val_loss: 0.3896 - val_accuracy: 0.9327\n",
      "Epoch 15/250\n",
      "3750/3750 [==============================] - 37s 10ms/step - loss: 0.3797 - accuracy: 0.9328 - val_loss: 0.3667 - val_accuracy: 0.9345\n",
      "Epoch 16/250\n",
      "3750/3750 [==============================] - 35s 9ms/step - loss: 0.3818 - accuracy: 0.9327 - val_loss: 0.3833 - val_accuracy: 0.9331\n",
      "Epoch 17/250\n",
      "3750/3750 [==============================] - 34s 9ms/step - loss: 0.3788 - accuracy: 0.9342 - val_loss: 0.3467 - val_accuracy: 0.9460\n",
      "Epoch 18/250\n",
      "3750/3750 [==============================] - 38s 10ms/step - loss: 0.3816 - accuracy: 0.9338 - val_loss: 0.3312 - val_accuracy: 0.9483\n",
      "Epoch 19/250\n",
      "3750/3750 [==============================] - 36s 10ms/step - loss: 0.3818 - accuracy: 0.9341 - val_loss: 0.3751 - val_accuracy: 0.9366\n",
      "Epoch 20/250\n",
      "3750/3750 [==============================] - 35s 9ms/step - loss: 0.3805 - accuracy: 0.9345 - val_loss: 0.3280 - val_accuracy: 0.9517\n",
      "Epoch 21/250\n",
      "3750/3750 [==============================] - 35s 9ms/step - loss: 0.3793 - accuracy: 0.9346 - val_loss: 0.3191 - val_accuracy: 0.9553\n",
      "Epoch 22/250\n",
      "3750/3750 [==============================] - 34s 9ms/step - loss: 0.3811 - accuracy: 0.9349 - val_loss: 0.4194 - val_accuracy: 0.9169\n",
      "Epoch 23/250\n",
      "3750/3750 [==============================] - 37s 10ms/step - loss: 0.3807 - accuracy: 0.9345 - val_loss: 0.3718 - val_accuracy: 0.9396\n",
      "Epoch 24/250\n",
      "3750/3750 [==============================] - 33s 9ms/step - loss: 0.3829 - accuracy: 0.9348 - val_loss: 0.4885 - val_accuracy: 0.8945\n",
      "Epoch 25/250\n",
      "3750/3750 [==============================] - 32s 9ms/step - loss: 0.3764 - accuracy: 0.9363 - val_loss: 0.3804 - val_accuracy: 0.9326\n",
      "Epoch 26/250\n",
      "3750/3750 [==============================] - 32s 9ms/step - loss: 0.3823 - accuracy: 0.9346 - val_loss: 0.4185 - val_accuracy: 0.9226\n",
      "Epoch 27/250\n",
      "3750/3750 [==============================] - 32s 8ms/step - loss: 0.3820 - accuracy: 0.9354 - val_loss: 0.3498 - val_accuracy: 0.9433\n",
      "Epoch 28/250\n",
      "3750/3750 [==============================] - 36s 10ms/step - loss: 0.3778 - accuracy: 0.9364 - val_loss: 0.3619 - val_accuracy: 0.9396\n",
      "Epoch 29/250\n",
      "3750/3750 [==============================] - 35s 9ms/step - loss: 0.3815 - accuracy: 0.9362 - val_loss: 0.3256 - val_accuracy: 0.9512\n",
      "Epoch 30/250\n",
      "3750/3750 [==============================] - 36s 10ms/step - loss: 0.3801 - accuracy: 0.9360 - val_loss: 0.3625 - val_accuracy: 0.9409\n",
      "Epoch 31/250\n",
      "3750/3750 [==============================] - 34s 9ms/step - loss: 0.3794 - accuracy: 0.9370 - val_loss: 0.3435 - val_accuracy: 0.9479\n",
      "Epoch 32/250\n",
      "3750/3750 [==============================] - 34s 9ms/step - loss: 0.3782 - accuracy: 0.9365 - val_loss: 0.3312 - val_accuracy: 0.9535\n",
      "Epoch 33/250\n",
      "3750/3750 [==============================] - 35s 9ms/step - loss: 0.3789 - accuracy: 0.9359 - val_loss: 0.3603 - val_accuracy: 0.9426\n",
      "Epoch 34/250\n",
      "3750/3750 [==============================] - 36s 10ms/step - loss: 0.3767 - accuracy: 0.9375 - val_loss: 0.3469 - val_accuracy: 0.9448\n",
      "Epoch 35/250\n",
      "3750/3750 [==============================] - 34s 9ms/step - loss: 0.3758 - accuracy: 0.9373 - val_loss: 0.3170 - val_accuracy: 0.9523\n",
      "Epoch 36/250\n",
      "3750/3750 [==============================] - 34s 9ms/step - loss: 0.3797 - accuracy: 0.9360 - val_loss: 0.3418 - val_accuracy: 0.9489\n",
      "Epoch 37/250\n",
      "3750/3750 [==============================] - 37s 10ms/step - loss: 0.3766 - accuracy: 0.9377 - val_loss: 0.3411 - val_accuracy: 0.9463\n",
      "Epoch 38/250\n",
      "3750/3750 [==============================] - 35s 9ms/step - loss: 0.3741 - accuracy: 0.9372 - val_loss: 0.3335 - val_accuracy: 0.9533\n",
      "Epoch 39/250\n",
      "3750/3750 [==============================] - 35s 9ms/step - loss: 0.3741 - accuracy: 0.9376 - val_loss: 0.3427 - val_accuracy: 0.9473\n",
      "Epoch 40/250\n",
      "3750/3750 [==============================] - 35s 9ms/step - loss: 0.3755 - accuracy: 0.9374 - val_loss: 0.3350 - val_accuracy: 0.9492\n",
      "Epoch 41/250\n",
      "3750/3750 [==============================] - 34s 9ms/step - loss: 0.3753 - accuracy: 0.9369 - val_loss: 0.3350 - val_accuracy: 0.9496\n",
      "Epoch 42/250\n",
      "3750/3750 [==============================] - 35s 9ms/step - loss: 0.3720 - accuracy: 0.9385 - val_loss: 0.3584 - val_accuracy: 0.9427\n",
      "Epoch 43/250\n",
      "3750/3750 [==============================] - 38s 10ms/step - loss: 0.3749 - accuracy: 0.9371 - val_loss: 0.3318 - val_accuracy: 0.9504\n",
      "Epoch 44/250\n",
      "3750/3750 [==============================] - 35s 9ms/step - loss: 0.3773 - accuracy: 0.9375 - val_loss: 0.3508 - val_accuracy: 0.9459\n",
      "Epoch 45/250\n",
      "3750/3750 [==============================] - 37s 10ms/step - loss: 0.3727 - accuracy: 0.9376 - val_loss: 0.3737 - val_accuracy: 0.9401\n",
      "Epoch 46/250\n",
      "3750/3750 [==============================] - 38s 10ms/step - loss: 0.3765 - accuracy: 0.9366 - val_loss: 0.3865 - val_accuracy: 0.9302\n",
      "Epoch 47/250\n",
      "3750/3750 [==============================] - 36s 10ms/step - loss: 0.3756 - accuracy: 0.9375 - val_loss: 0.3610 - val_accuracy: 0.9419\n",
      "Epoch 48/250\n",
      "3750/3750 [==============================] - 37s 10ms/step - loss: 0.3755 - accuracy: 0.9369 - val_loss: 0.3563 - val_accuracy: 0.9455\n",
      "Epoch 49/250\n",
      "3750/3750 [==============================] - 33s 9ms/step - loss: 0.3717 - accuracy: 0.9392 - val_loss: 0.3443 - val_accuracy: 0.9485\n",
      "Epoch 50/250\n",
      "3750/3750 [==============================] - 35s 9ms/step - loss: 0.3715 - accuracy: 0.9386 - val_loss: 0.4694 - val_accuracy: 0.8895\n",
      "Epoch 51/250\n",
      "3750/3750 [==============================] - 34s 9ms/step - loss: 0.3722 - accuracy: 0.9381 - val_loss: 0.3376 - val_accuracy: 0.9517\n",
      "Epoch 52/250\n",
      "3750/3750 [==============================] - 35s 9ms/step - loss: 0.3726 - accuracy: 0.9380 - val_loss: 0.3833 - val_accuracy: 0.9323\n",
      "Epoch 53/250\n",
      "3750/3750 [==============================] - 35s 9ms/step - loss: 0.3719 - accuracy: 0.9386 - val_loss: 0.3822 - val_accuracy: 0.9336\n",
      "Epoch 54/250\n",
      "3750/3750 [==============================] - 36s 10ms/step - loss: 0.3717 - accuracy: 0.9381 - val_loss: 0.3548 - val_accuracy: 0.9428\n",
      "Epoch 55/250\n",
      "3750/3750 [==============================] - 33s 9ms/step - loss: 0.3730 - accuracy: 0.9373 - val_loss: 0.3695 - val_accuracy: 0.9426\n",
      "Epoch 56/250\n",
      "3750/3750 [==============================] - 34s 9ms/step - loss: 0.3727 - accuracy: 0.9384 - val_loss: 0.3654 - val_accuracy: 0.9330\n",
      "Epoch 57/250\n",
      "3750/3750 [==============================] - 33s 9ms/step - loss: 0.3711 - accuracy: 0.9383 - val_loss: 0.3647 - val_accuracy: 0.9375\n",
      "Epoch 58/250\n",
      "3750/3750 [==============================] - 34s 9ms/step - loss: 0.3711 - accuracy: 0.9383 - val_loss: 0.3244 - val_accuracy: 0.9505\n",
      "Epoch 59/250\n",
      "3750/3750 [==============================] - 35s 9ms/step - loss: 0.3696 - accuracy: 0.9388 - val_loss: 0.3209 - val_accuracy: 0.9514\n",
      "Epoch 60/250\n",
      "3750/3750 [==============================] - 35s 9ms/step - loss: 0.3650 - accuracy: 0.9398 - val_loss: 0.3125 - val_accuracy: 0.9569\n",
      "Epoch 61/250\n",
      "3750/3750 [==============================] - 34s 9ms/step - loss: 0.3675 - accuracy: 0.9393 - val_loss: 0.3569 - val_accuracy: 0.9395\n",
      "Epoch 62/250\n",
      "3750/3750 [==============================] - 34s 9ms/step - loss: 0.3701 - accuracy: 0.9379 - val_loss: 0.4390 - val_accuracy: 0.9135\n",
      "Epoch 63/250\n",
      "3750/3750 [==============================] - 34s 9ms/step - loss: 0.3682 - accuracy: 0.9390 - val_loss: 0.3691 - val_accuracy: 0.9394\n",
      "Epoch 64/250\n",
      "3750/3750 [==============================] - 38s 10ms/step - loss: 0.3676 - accuracy: 0.9386 - val_loss: 0.3581 - val_accuracy: 0.9374\n",
      "Epoch 65/250\n",
      "3750/3750 [==============================] - 36s 9ms/step - loss: 0.3695 - accuracy: 0.9392 - val_loss: 0.3435 - val_accuracy: 0.9465\n",
      "Epoch 66/250\n",
      "3750/3750 [==============================] - 33s 9ms/step - loss: 0.3637 - accuracy: 0.9395 - val_loss: 0.4011 - val_accuracy: 0.9255\n",
      "Epoch 67/250\n",
      "3750/3750 [==============================] - 35s 9ms/step - loss: 0.3640 - accuracy: 0.9398 - val_loss: 0.4108 - val_accuracy: 0.9172\n",
      "Epoch 68/250\n",
      "3750/3750 [==============================] - 31s 8ms/step - loss: 0.3657 - accuracy: 0.9391 - val_loss: 0.3757 - val_accuracy: 0.9356\n",
      "Epoch 69/250\n",
      "3750/3750 [==============================] - 33s 9ms/step - loss: 0.3653 - accuracy: 0.9391 - val_loss: 0.4032 - val_accuracy: 0.9146\n",
      "Epoch 70/250\n",
      "3750/3750 [==============================] - 36s 10ms/step - loss: 0.3638 - accuracy: 0.9396 - val_loss: 0.3135 - val_accuracy: 0.9534\n",
      "Epoch 71/250\n",
      "3750/3750 [==============================] - 34s 9ms/step - loss: 0.3667 - accuracy: 0.9383 - val_loss: 0.3725 - val_accuracy: 0.9392\n",
      "Epoch 72/250\n",
      "3750/3750 [==============================] - 34s 9ms/step - loss: 0.3665 - accuracy: 0.9388 - val_loss: 0.3653 - val_accuracy: 0.9361\n",
      "Epoch 73/250\n",
      "3750/3750 [==============================] - 33s 9ms/step - loss: 0.3629 - accuracy: 0.9396 - val_loss: 0.3367 - val_accuracy: 0.9474\n",
      "Epoch 74/250\n",
      "3750/3750 [==============================] - 33s 9ms/step - loss: 0.3621 - accuracy: 0.9403 - val_loss: 0.3314 - val_accuracy: 0.9514\n",
      "Epoch 75/250\n",
      "3750/3750 [==============================] - 34s 9ms/step - loss: 0.3604 - accuracy: 0.9400 - val_loss: 0.3401 - val_accuracy: 0.9456\n",
      "Epoch 76/250\n",
      "3750/3750 [==============================] - 34s 9ms/step - loss: 0.3588 - accuracy: 0.9408 - val_loss: 0.4079 - val_accuracy: 0.9213\n",
      "Epoch 77/250\n",
      "3750/3750 [==============================] - 33s 9ms/step - loss: 0.3588 - accuracy: 0.9403 - val_loss: 0.3155 - val_accuracy: 0.9504\n",
      "Epoch 78/250\n",
      "3750/3750 [==============================] - 34s 9ms/step - loss: 0.3578 - accuracy: 0.9401 - val_loss: 0.3287 - val_accuracy: 0.9522\n",
      "Epoch 79/250\n",
      "3750/3750 [==============================] - 33s 9ms/step - loss: 0.3604 - accuracy: 0.9404 - val_loss: 0.3444 - val_accuracy: 0.9436\n",
      "Epoch 80/250\n",
      "3750/3750 [==============================] - 32s 9ms/step - loss: 0.3602 - accuracy: 0.9395 - val_loss: 0.3137 - val_accuracy: 0.9564\n",
      "Epoch 81/250\n",
      "3750/3750 [==============================] - 34s 9ms/step - loss: 0.3622 - accuracy: 0.9398 - val_loss: 0.3593 - val_accuracy: 0.9383\n",
      "Epoch 82/250\n",
      "3750/3750 [==============================] - 33s 9ms/step - loss: 0.3585 - accuracy: 0.9395 - val_loss: 0.3689 - val_accuracy: 0.9382\n",
      "Epoch 83/250\n",
      "3750/3750 [==============================] - 32s 8ms/step - loss: 0.3563 - accuracy: 0.9403 - val_loss: 0.3095 - val_accuracy: 0.9566\n",
      "Epoch 84/250\n",
      "3750/3750 [==============================] - 33s 9ms/step - loss: 0.3573 - accuracy: 0.9405 - val_loss: 0.3356 - val_accuracy: 0.9413\n",
      "Epoch 85/250\n",
      "3750/3750 [==============================] - 34s 9ms/step - loss: 0.3614 - accuracy: 0.9394 - val_loss: 0.3178 - val_accuracy: 0.9576\n",
      "Epoch 86/250\n",
      "3750/3750 [==============================] - 35s 9ms/step - loss: 0.3537 - accuracy: 0.9411 - val_loss: 0.3723 - val_accuracy: 0.9301\n",
      "Epoch 87/250\n",
      "3750/3750 [==============================] - 34s 9ms/step - loss: 0.3569 - accuracy: 0.9405 - val_loss: 0.3679 - val_accuracy: 0.9325\n",
      "Epoch 88/250\n",
      "3750/3750 [==============================] - 34s 9ms/step - loss: 0.3554 - accuracy: 0.9408 - val_loss: 0.3487 - val_accuracy: 0.9433\n",
      "Epoch 89/250\n",
      "3750/3750 [==============================] - 33s 9ms/step - loss: 0.3565 - accuracy: 0.9419 - val_loss: 0.3492 - val_accuracy: 0.9428\n",
      "Epoch 90/250\n",
      "3750/3750 [==============================] - 32s 8ms/step - loss: 0.3573 - accuracy: 0.9403 - val_loss: 0.3506 - val_accuracy: 0.9397\n",
      "Epoch 91/250\n",
      "3750/3750 [==============================] - 33s 9ms/step - loss: 0.3531 - accuracy: 0.9419 - val_loss: 0.3111 - val_accuracy: 0.9567\n",
      "Epoch 92/250\n",
      "3750/3750 [==============================] - 33s 9ms/step - loss: 0.3550 - accuracy: 0.9413 - val_loss: 0.2954 - val_accuracy: 0.9600\n",
      "Epoch 93/250\n",
      "3750/3750 [==============================] - 31s 8ms/step - loss: 0.3532 - accuracy: 0.9411 - val_loss: 0.4139 - val_accuracy: 0.9218\n",
      "Epoch 94/250\n",
      "3750/3750 [==============================] - 33s 9ms/step - loss: 0.3532 - accuracy: 0.9416 - val_loss: 0.4046 - val_accuracy: 0.9195\n",
      "Epoch 95/250\n",
      "3750/3750 [==============================] - 32s 8ms/step - loss: 0.3534 - accuracy: 0.9419 - val_loss: 0.3064 - val_accuracy: 0.9525\n",
      "Epoch 96/250\n",
      "3750/3750 [==============================] - 31s 8ms/step - loss: 0.3519 - accuracy: 0.9413 - val_loss: 0.2987 - val_accuracy: 0.9579\n",
      "Epoch 97/250\n",
      "3750/3750 [==============================] - 32s 9ms/step - loss: 0.3514 - accuracy: 0.9424 - val_loss: 0.2942 - val_accuracy: 0.9584\n",
      "Epoch 98/250\n",
      "3750/3750 [==============================] - 33s 9ms/step - loss: 0.3523 - accuracy: 0.9421 - val_loss: 0.4472 - val_accuracy: 0.9097\n",
      "Epoch 99/250\n",
      "3750/3750 [==============================] - 33s 9ms/step - loss: 0.3538 - accuracy: 0.9415 - val_loss: 0.3008 - val_accuracy: 0.9581\n",
      "Epoch 100/250\n",
      "3750/3750 [==============================] - 32s 9ms/step - loss: 0.3495 - accuracy: 0.9417 - val_loss: 0.3203 - val_accuracy: 0.9523\n",
      "Epoch 101/250\n",
      "3750/3750 [==============================] - 33s 9ms/step - loss: 0.3472 - accuracy: 0.9427 - val_loss: 0.3648 - val_accuracy: 0.9368\n",
      "Epoch 102/250\n",
      "3750/3750 [==============================] - 33s 9ms/step - loss: 0.3478 - accuracy: 0.9419 - val_loss: 0.3189 - val_accuracy: 0.9511\n",
      "Epoch 103/250\n",
      "3750/3750 [==============================] - 35s 9ms/step - loss: 0.3511 - accuracy: 0.9420 - val_loss: 0.3080 - val_accuracy: 0.9571\n",
      "Epoch 104/250\n",
      "3750/3750 [==============================] - 33s 9ms/step - loss: 0.3505 - accuracy: 0.9410 - val_loss: 0.3158 - val_accuracy: 0.9550\n",
      "Epoch 105/250\n",
      "3750/3750 [==============================] - 33s 9ms/step - loss: 0.3454 - accuracy: 0.9433 - val_loss: 0.2986 - val_accuracy: 0.9584\n",
      "Epoch 106/250\n",
      "3750/3750 [==============================] - 32s 8ms/step - loss: 0.3490 - accuracy: 0.9413 - val_loss: 0.3432 - val_accuracy: 0.9416\n",
      "Epoch 107/250\n",
      "3750/3750 [==============================] - 33s 9ms/step - loss: 0.3471 - accuracy: 0.9421 - val_loss: 0.3206 - val_accuracy: 0.9519\n",
      "Epoch 108/250\n",
      "3750/3750 [==============================] - 35s 9ms/step - loss: 0.3464 - accuracy: 0.9417 - val_loss: 0.3324 - val_accuracy: 0.9429\n",
      "Epoch 109/250\n",
      "3750/3750 [==============================] - 32s 9ms/step - loss: 0.3467 - accuracy: 0.9422 - val_loss: 0.3067 - val_accuracy: 0.9581\n",
      "Epoch 110/250\n",
      "3750/3750 [==============================] - 33s 9ms/step - loss: 0.3460 - accuracy: 0.9421 - val_loss: 0.3494 - val_accuracy: 0.9442\n",
      "Epoch 111/250\n",
      "3750/3750 [==============================] - 33s 9ms/step - loss: 0.3445 - accuracy: 0.9424 - val_loss: 0.3595 - val_accuracy: 0.9361\n",
      "Epoch 112/250\n",
      "3750/3750 [==============================] - 33s 9ms/step - loss: 0.3434 - accuracy: 0.9439 - val_loss: 0.3489 - val_accuracy: 0.9418\n",
      "Epoch 113/250\n",
      "3750/3750 [==============================] - 33s 9ms/step - loss: 0.3453 - accuracy: 0.9416 - val_loss: 0.3360 - val_accuracy: 0.9454\n",
      "Epoch 114/250\n",
      "3750/3750 [==============================] - 34s 9ms/step - loss: 0.3411 - accuracy: 0.9439 - val_loss: 0.3105 - val_accuracy: 0.9565\n",
      "Epoch 115/250\n",
      "3750/3750 [==============================] - 32s 9ms/step - loss: 0.3430 - accuracy: 0.9423 - val_loss: 0.3031 - val_accuracy: 0.9546\n",
      "Epoch 116/250\n",
      "3750/3750 [==============================] - 32s 8ms/step - loss: 0.3379 - accuracy: 0.9441 - val_loss: 0.3061 - val_accuracy: 0.9525\n",
      "Epoch 117/250\n",
      "3750/3750 [==============================] - 32s 9ms/step - loss: 0.3418 - accuracy: 0.9432 - val_loss: 0.3007 - val_accuracy: 0.9578\n",
      "Epoch 118/250\n",
      "3750/3750 [==============================] - 33s 9ms/step - loss: 0.3408 - accuracy: 0.9432 - val_loss: 0.3109 - val_accuracy: 0.9532\n",
      "Epoch 119/250\n",
      "3750/3750 [==============================] - 34s 9ms/step - loss: 0.3447 - accuracy: 0.9427 - val_loss: 0.3140 - val_accuracy: 0.9510\n",
      "Epoch 120/250\n",
      "3750/3750 [==============================] - 34s 9ms/step - loss: 0.3411 - accuracy: 0.9441 - val_loss: 0.4052 - val_accuracy: 0.9201\n",
      "Epoch 121/250\n",
      "3750/3750 [==============================] - 32s 9ms/step - loss: 0.3418 - accuracy: 0.9430 - val_loss: 0.2940 - val_accuracy: 0.9576\n",
      "Epoch 122/250\n",
      "3750/3750 [==============================] - 32s 9ms/step - loss: 0.3387 - accuracy: 0.9440 - val_loss: 0.2906 - val_accuracy: 0.9578\n",
      "Epoch 123/250\n",
      "3750/3750 [==============================] - 32s 9ms/step - loss: 0.3373 - accuracy: 0.9439 - val_loss: 0.2941 - val_accuracy: 0.9570\n",
      "Epoch 124/250\n",
      "3750/3750 [==============================] - 34s 9ms/step - loss: 0.3379 - accuracy: 0.9432 - val_loss: 0.3726 - val_accuracy: 0.9319\n",
      "Epoch 125/250\n",
      "3750/3750 [==============================] - 33s 9ms/step - loss: 0.3371 - accuracy: 0.9442 - val_loss: 0.4067 - val_accuracy: 0.9186\n",
      "Epoch 126/250\n",
      "3750/3750 [==============================] - 34s 9ms/step - loss: 0.3388 - accuracy: 0.9441 - val_loss: 0.3007 - val_accuracy: 0.9560\n",
      "Epoch 127/250\n",
      "3750/3750 [==============================] - 33s 9ms/step - loss: 0.3385 - accuracy: 0.9435 - val_loss: 0.3520 - val_accuracy: 0.9404\n",
      "Epoch 128/250\n",
      "3750/3750 [==============================] - 33s 9ms/step - loss: 0.3370 - accuracy: 0.9435 - val_loss: 0.3021 - val_accuracy: 0.9557\n",
      "Epoch 129/250\n",
      "3750/3750 [==============================] - 35s 9ms/step - loss: 0.3371 - accuracy: 0.9447 - val_loss: 0.2835 - val_accuracy: 0.9622\n",
      "Epoch 130/250\n",
      "3750/3750 [==============================] - 33s 9ms/step - loss: 0.3405 - accuracy: 0.9427 - val_loss: 0.3077 - val_accuracy: 0.9546\n",
      "Epoch 131/250\n",
      "3750/3750 [==============================] - 33s 9ms/step - loss: 0.3363 - accuracy: 0.9434 - val_loss: 0.2970 - val_accuracy: 0.9589\n",
      "Epoch 132/250\n",
      "3750/3750 [==============================] - 33s 9ms/step - loss: 0.3364 - accuracy: 0.9449 - val_loss: 0.2991 - val_accuracy: 0.9588\n",
      "Epoch 133/250\n",
      "3750/3750 [==============================] - 33s 9ms/step - loss: 0.3343 - accuracy: 0.9449 - val_loss: 0.3165 - val_accuracy: 0.9492\n",
      "Epoch 134/250\n",
      "3750/3750 [==============================] - 33s 9ms/step - loss: 0.3380 - accuracy: 0.9434 - val_loss: 0.2905 - val_accuracy: 0.9604\n",
      "Epoch 135/250\n",
      "3750/3750 [==============================] - 34s 9ms/step - loss: 0.3338 - accuracy: 0.9452 - val_loss: 0.3421 - val_accuracy: 0.9398\n",
      "Epoch 136/250\n",
      "3750/3750 [==============================] - 33s 9ms/step - loss: 0.3349 - accuracy: 0.9441 - val_loss: 0.3148 - val_accuracy: 0.9543\n",
      "Epoch 137/250\n",
      "3750/3750 [==============================] - 33s 9ms/step - loss: 0.3317 - accuracy: 0.9452 - val_loss: 0.3349 - val_accuracy: 0.9430\n",
      "Epoch 138/250\n",
      "3750/3750 [==============================] - 33s 9ms/step - loss: 0.3369 - accuracy: 0.9436 - val_loss: 0.2972 - val_accuracy: 0.9559\n",
      "Epoch 139/250\n",
      "3750/3750 [==============================] - 32s 9ms/step - loss: 0.3343 - accuracy: 0.9442 - val_loss: 0.2875 - val_accuracy: 0.9612\n",
      "Epoch 140/250\n",
      "3750/3750 [==============================] - 35s 9ms/step - loss: 0.3331 - accuracy: 0.9446 - val_loss: 0.3028 - val_accuracy: 0.9533\n",
      "Epoch 141/250\n",
      "3750/3750 [==============================] - 33s 9ms/step - loss: 0.3311 - accuracy: 0.9463 - val_loss: 0.3287 - val_accuracy: 0.9455\n",
      "Epoch 142/250\n",
      "3750/3750 [==============================] - 33s 9ms/step - loss: 0.3308 - accuracy: 0.9452 - val_loss: 0.2957 - val_accuracy: 0.9567\n",
      "Epoch 143/250\n",
      "3750/3750 [==============================] - 33s 9ms/step - loss: 0.3326 - accuracy: 0.9444 - val_loss: 0.3026 - val_accuracy: 0.9543\n",
      "Epoch 144/250\n",
      "3750/3750 [==============================] - 33s 9ms/step - loss: 0.3288 - accuracy: 0.9451 - val_loss: 0.2967 - val_accuracy: 0.9586\n",
      "Epoch 145/250\n",
      "3750/3750 [==============================] - 34s 9ms/step - loss: 0.3294 - accuracy: 0.9463 - val_loss: 0.3755 - val_accuracy: 0.9331\n",
      "Epoch 146/250\n",
      "3750/3750 [==============================] - 33s 9ms/step - loss: 0.3300 - accuracy: 0.9454 - val_loss: 0.4494 - val_accuracy: 0.8996\n",
      "Epoch 147/250\n",
      "3750/3750 [==============================] - 35s 9ms/step - loss: 0.3311 - accuracy: 0.9444 - val_loss: 0.2995 - val_accuracy: 0.9527\n",
      "Epoch 148/250\n",
      "3750/3750 [==============================] - 34s 9ms/step - loss: 0.3331 - accuracy: 0.9451 - val_loss: 0.2973 - val_accuracy: 0.9584\n",
      "Epoch 149/250\n",
      "3750/3750 [==============================] - 34s 9ms/step - loss: 0.3322 - accuracy: 0.9448 - val_loss: 0.4061 - val_accuracy: 0.9213\n",
      "Epoch 150/250\n",
      "3750/3750 [==============================] - 36s 10ms/step - loss: 0.3317 - accuracy: 0.9444 - val_loss: 0.3410 - val_accuracy: 0.9388\n",
      "Epoch 151/250\n",
      "3750/3750 [==============================] - 34s 9ms/step - loss: 0.3274 - accuracy: 0.9453 - val_loss: 0.2879 - val_accuracy: 0.9601\n",
      "Epoch 152/250\n",
      "3750/3750 [==============================] - 34s 9ms/step - loss: 0.3279 - accuracy: 0.9463 - val_loss: 0.3442 - val_accuracy: 0.9340\n",
      "Epoch 153/250\n",
      "3750/3750 [==============================] - 34s 9ms/step - loss: 0.3298 - accuracy: 0.9449 - val_loss: 0.2962 - val_accuracy: 0.9540\n",
      "Epoch 154/250\n",
      "3750/3750 [==============================] - 34s 9ms/step - loss: 0.3277 - accuracy: 0.9448 - val_loss: 0.3320 - val_accuracy: 0.9449\n",
      "Epoch 155/250\n",
      "3750/3750 [==============================] - 35s 9ms/step - loss: 0.3285 - accuracy: 0.9452 - val_loss: 0.2846 - val_accuracy: 0.9598\n",
      "Epoch 156/250\n",
      "3750/3750 [==============================] - 33s 9ms/step - loss: 0.3265 - accuracy: 0.9462 - val_loss: 0.3197 - val_accuracy: 0.9504\n",
      "Epoch 157/250\n",
      "3750/3750 [==============================] - 34s 9ms/step - loss: 0.3241 - accuracy: 0.9465 - val_loss: 0.3073 - val_accuracy: 0.9531\n",
      "Epoch 158/250\n",
      "3750/3750 [==============================] - 34s 9ms/step - loss: 0.3302 - accuracy: 0.9446 - val_loss: 0.4453 - val_accuracy: 0.9031\n",
      "Epoch 159/250\n",
      "3750/3750 [==============================] - 35s 9ms/step - loss: 0.3239 - accuracy: 0.9454 - val_loss: 0.3132 - val_accuracy: 0.9504\n",
      "Epoch 160/250\n",
      "3750/3750 [==============================] - 36s 10ms/step - loss: 0.3234 - accuracy: 0.9466 - val_loss: 0.3001 - val_accuracy: 0.9543\n",
      "Epoch 161/250\n",
      "3750/3750 [==============================] - 34s 9ms/step - loss: 0.3266 - accuracy: 0.9452 - val_loss: 0.3083 - val_accuracy: 0.9527\n",
      "Epoch 162/250\n",
      "3750/3750 [==============================] - 34s 9ms/step - loss: 0.3252 - accuracy: 0.9453 - val_loss: 0.3612 - val_accuracy: 0.9373\n",
      "Epoch 163/250\n",
      "3750/3750 [==============================] - 35s 9ms/step - loss: 0.3243 - accuracy: 0.9451 - val_loss: 0.3059 - val_accuracy: 0.9555\n",
      "Epoch 164/250\n",
      "3750/3750 [==============================] - 38s 10ms/step - loss: 0.3239 - accuracy: 0.9462 - val_loss: 0.2843 - val_accuracy: 0.9600\n",
      "Epoch 165/250\n",
      "3750/3750 [==============================] - 34s 9ms/step - loss: 0.3239 - accuracy: 0.9459 - val_loss: 0.3251 - val_accuracy: 0.9426\n",
      "Epoch 166/250\n",
      "3750/3750 [==============================] - 34s 9ms/step - loss: 0.3254 - accuracy: 0.9452 - val_loss: 0.3788 - val_accuracy: 0.9306\n",
      "Epoch 167/250\n",
      "3750/3750 [==============================] - 34s 9ms/step - loss: 0.3244 - accuracy: 0.9456 - val_loss: 0.2783 - val_accuracy: 0.9621\n",
      "Epoch 168/250\n",
      "3750/3750 [==============================] - 35s 9ms/step - loss: 0.3187 - accuracy: 0.9476 - val_loss: 0.3145 - val_accuracy: 0.9543\n",
      "Epoch 169/250\n",
      "3750/3750 [==============================] - 35s 9ms/step - loss: 0.3232 - accuracy: 0.9462 - val_loss: 0.3181 - val_accuracy: 0.9458\n",
      "Epoch 170/250\n",
      "3750/3750 [==============================] - 36s 9ms/step - loss: 0.3238 - accuracy: 0.9462 - val_loss: 0.3060 - val_accuracy: 0.9533\n",
      "Epoch 171/250\n",
      "3750/3750 [==============================] - 34s 9ms/step - loss: 0.3221 - accuracy: 0.9471 - val_loss: 0.3868 - val_accuracy: 0.9251\n",
      "Epoch 172/250\n",
      "3750/3750 [==============================] - 35s 9ms/step - loss: 0.3244 - accuracy: 0.9465 - val_loss: 0.3088 - val_accuracy: 0.9506\n",
      "Epoch 173/250\n",
      "3750/3750 [==============================] - 34s 9ms/step - loss: 0.3204 - accuracy: 0.9469 - val_loss: 0.2701 - val_accuracy: 0.9613\n",
      "Epoch 174/250\n",
      "3750/3750 [==============================] - 37s 10ms/step - loss: 0.3244 - accuracy: 0.9460 - val_loss: 0.2775 - val_accuracy: 0.9627\n",
      "Epoch 175/250\n",
      "3750/3750 [==============================] - 35s 9ms/step - loss: 0.3204 - accuracy: 0.9470 - val_loss: 0.2931 - val_accuracy: 0.9538\n",
      "Epoch 176/250\n",
      "3750/3750 [==============================] - 36s 10ms/step - loss: 0.3220 - accuracy: 0.9470 - val_loss: 0.2747 - val_accuracy: 0.9623\n",
      "Epoch 177/250\n",
      "3750/3750 [==============================] - 34s 9ms/step - loss: 0.3215 - accuracy: 0.9467 - val_loss: 0.3288 - val_accuracy: 0.9429\n",
      "Epoch 178/250\n",
      "3750/3750 [==============================] - 34s 9ms/step - loss: 0.3198 - accuracy: 0.9470 - val_loss: 0.2971 - val_accuracy: 0.9571\n",
      "Epoch 179/250\n",
      "3750/3750 [==============================] - 36s 10ms/step - loss: 0.3242 - accuracy: 0.9466 - val_loss: 0.3131 - val_accuracy: 0.9511\n",
      "Epoch 180/250\n",
      "3750/3750 [==============================] - 35s 9ms/step - loss: 0.3184 - accuracy: 0.9471 - val_loss: 0.2665 - val_accuracy: 0.9619\n",
      "Epoch 181/250\n",
      "3750/3750 [==============================] - 36s 9ms/step - loss: 0.3171 - accuracy: 0.9470 - val_loss: 0.4041 - val_accuracy: 0.9092\n",
      "Epoch 182/250\n",
      "3750/3750 [==============================] - 35s 9ms/step - loss: 0.3241 - accuracy: 0.9453 - val_loss: 0.3019 - val_accuracy: 0.9543\n",
      "Epoch 183/250\n",
      "3750/3750 [==============================] - 34s 9ms/step - loss: 0.3201 - accuracy: 0.9470 - val_loss: 0.3144 - val_accuracy: 0.9520\n",
      "Epoch 184/250\n",
      "3750/3750 [==============================] - 35s 9ms/step - loss: 0.3211 - accuracy: 0.9465 - val_loss: 0.2884 - val_accuracy: 0.9556\n",
      "Epoch 185/250\n",
      "3750/3750 [==============================] - 34s 9ms/step - loss: 0.3175 - accuracy: 0.9487 - val_loss: 0.3930 - val_accuracy: 0.9242\n",
      "Epoch 186/250\n",
      "3750/3750 [==============================] - 34s 9ms/step - loss: 0.3178 - accuracy: 0.9477 - val_loss: 0.2876 - val_accuracy: 0.9548\n",
      "Epoch 187/250\n",
      "3750/3750 [==============================] - 33s 9ms/step - loss: 0.3179 - accuracy: 0.9477 - val_loss: 0.2927 - val_accuracy: 0.9572\n",
      "Epoch 188/250\n",
      "3750/3750 [==============================] - 33s 9ms/step - loss: 0.3188 - accuracy: 0.9464 - val_loss: 0.3079 - val_accuracy: 0.9495\n",
      "Epoch 189/250\n",
      "3750/3750 [==============================] - 35s 9ms/step - loss: 0.3178 - accuracy: 0.9477 - val_loss: 0.3201 - val_accuracy: 0.9438\n",
      "Epoch 190/250\n",
      "3750/3750 [==============================] - 33s 9ms/step - loss: 0.3153 - accuracy: 0.9470 - val_loss: 0.3051 - val_accuracy: 0.9515\n",
      "Epoch 191/250\n",
      "3750/3750 [==============================] - 35s 9ms/step - loss: 0.3151 - accuracy: 0.9477 - val_loss: 0.3045 - val_accuracy: 0.9521\n",
      "Epoch 192/250\n",
      "3750/3750 [==============================] - 35s 9ms/step - loss: 0.3169 - accuracy: 0.9476 - val_loss: 0.3882 - val_accuracy: 0.9312\n",
      "Epoch 193/250\n",
      "3750/3750 [==============================] - 37s 10ms/step - loss: 0.3180 - accuracy: 0.9478 - val_loss: 0.3023 - val_accuracy: 0.9529\n",
      "Epoch 194/250\n",
      "3750/3750 [==============================] - 33s 9ms/step - loss: 0.3186 - accuracy: 0.9466 - val_loss: 0.2880 - val_accuracy: 0.9562\n",
      "Epoch 195/250\n",
      "3750/3750 [==============================] - 35s 9ms/step - loss: 0.3142 - accuracy: 0.9490 - val_loss: 0.2946 - val_accuracy: 0.9566\n",
      "Epoch 196/250\n",
      "3750/3750 [==============================] - 34s 9ms/step - loss: 0.3144 - accuracy: 0.9471 - val_loss: 0.2883 - val_accuracy: 0.9572\n",
      "Epoch 197/250\n",
      "3750/3750 [==============================] - 35s 9ms/step - loss: 0.3193 - accuracy: 0.9478 - val_loss: 0.3050 - val_accuracy: 0.9491\n",
      "Epoch 198/250\n",
      "3750/3750 [==============================] - 35s 9ms/step - loss: 0.3145 - accuracy: 0.9484 - val_loss: 0.2829 - val_accuracy: 0.9572\n",
      "Epoch 199/250\n",
      "3750/3750 [==============================] - 35s 9ms/step - loss: 0.3172 - accuracy: 0.9474 - val_loss: 0.2682 - val_accuracy: 0.9617\n",
      "Epoch 200/250\n",
      "3750/3750 [==============================] - 34s 9ms/step - loss: 0.3164 - accuracy: 0.9477 - val_loss: 0.3443 - val_accuracy: 0.9386\n",
      "Epoch 201/250\n",
      "3750/3750 [==============================] - 34s 9ms/step - loss: 0.3131 - accuracy: 0.9493 - val_loss: 0.3293 - val_accuracy: 0.9444\n",
      "Epoch 202/250\n",
      "3750/3750 [==============================] - 35s 9ms/step - loss: 0.3128 - accuracy: 0.9486 - val_loss: 0.2897 - val_accuracy: 0.9575\n",
      "Epoch 203/250\n",
      "3750/3750 [==============================] - 37s 10ms/step - loss: 0.3111 - accuracy: 0.9493 - val_loss: 0.2994 - val_accuracy: 0.9503\n",
      "Epoch 204/250\n",
      "3750/3750 [==============================] - 35s 9ms/step - loss: 0.3164 - accuracy: 0.9487 - val_loss: 0.2711 - val_accuracy: 0.9620\n",
      "Epoch 205/250\n",
      "3750/3750 [==============================] - 34s 9ms/step - loss: 0.3158 - accuracy: 0.9488 - val_loss: 0.2819 - val_accuracy: 0.9575\n",
      "Epoch 206/250\n",
      "3750/3750 [==============================] - 34s 9ms/step - loss: 0.3156 - accuracy: 0.9476 - val_loss: 0.2878 - val_accuracy: 0.9597\n",
      "Epoch 207/250\n",
      "3750/3750 [==============================] - 35s 9ms/step - loss: 0.3125 - accuracy: 0.9483 - val_loss: 0.2843 - val_accuracy: 0.9604\n",
      "Epoch 208/250\n",
      "3750/3750 [==============================] - 37s 10ms/step - loss: 0.3129 - accuracy: 0.9485 - val_loss: 0.3125 - val_accuracy: 0.9456\n",
      "Epoch 209/250\n",
      "3750/3750 [==============================] - 36s 10ms/step - loss: 0.3134 - accuracy: 0.9477 - val_loss: 0.3191 - val_accuracy: 0.9483\n",
      "Epoch 210/250\n",
      "3750/3750 [==============================] - 34s 9ms/step - loss: 0.3151 - accuracy: 0.9481 - val_loss: 0.3318 - val_accuracy: 0.9423\n",
      "Epoch 211/250\n",
      "3750/3750 [==============================] - 35s 9ms/step - loss: 0.3155 - accuracy: 0.9469 - val_loss: 0.3285 - val_accuracy: 0.9456\n",
      "Epoch 212/250\n",
      "3750/3750 [==============================] - 35s 9ms/step - loss: 0.3136 - accuracy: 0.9492 - val_loss: 0.2906 - val_accuracy: 0.9545\n",
      "Epoch 213/250\n",
      "3750/3750 [==============================] - 36s 10ms/step - loss: 0.3128 - accuracy: 0.9474 - val_loss: 0.2918 - val_accuracy: 0.9531\n",
      "Epoch 214/250\n",
      "3750/3750 [==============================] - 34s 9ms/step - loss: 0.3113 - accuracy: 0.9482 - val_loss: 0.3006 - val_accuracy: 0.9560\n",
      "Epoch 215/250\n",
      "3750/3750 [==============================] - 34s 9ms/step - loss: 0.3072 - accuracy: 0.9503 - val_loss: 0.3647 - val_accuracy: 0.9297\n",
      "Epoch 216/250\n",
      "3750/3750 [==============================] - 33s 9ms/step - loss: 0.3152 - accuracy: 0.9480 - val_loss: 0.3301 - val_accuracy: 0.9391\n",
      "Epoch 217/250\n",
      "3750/3750 [==============================] - 32s 9ms/step - loss: 0.3139 - accuracy: 0.9481 - val_loss: 0.3209 - val_accuracy: 0.9424\n",
      "Epoch 218/250\n",
      "3750/3750 [==============================] - 32s 8ms/step - loss: 0.3157 - accuracy: 0.9474 - val_loss: 0.3209 - val_accuracy: 0.9492\n",
      "Epoch 219/250\n",
      "3750/3750 [==============================] - 32s 9ms/step - loss: 0.3116 - accuracy: 0.9489 - val_loss: 0.2785 - val_accuracy: 0.9605\n",
      "Epoch 220/250\n",
      "3750/3750 [==============================] - 35s 9ms/step - loss: 0.3104 - accuracy: 0.9501 - val_loss: 0.2837 - val_accuracy: 0.9549\n",
      "Epoch 221/250\n",
      "3750/3750 [==============================] - 31s 8ms/step - loss: 0.3088 - accuracy: 0.9495 - val_loss: 0.3567 - val_accuracy: 0.9341\n",
      "Epoch 222/250\n",
      "3750/3750 [==============================] - 32s 8ms/step - loss: 0.3150 - accuracy: 0.9476 - val_loss: 0.3208 - val_accuracy: 0.9428\n",
      "Epoch 223/250\n",
      "3750/3750 [==============================] - 33s 9ms/step - loss: 0.3116 - accuracy: 0.9493 - val_loss: 0.2798 - val_accuracy: 0.9603\n",
      "Epoch 224/250\n",
      "3750/3750 [==============================] - 33s 9ms/step - loss: 0.3098 - accuracy: 0.9487 - val_loss: 0.2940 - val_accuracy: 0.9579\n",
      "Epoch 225/250\n",
      "3750/3750 [==============================] - 33s 9ms/step - loss: 0.3114 - accuracy: 0.9483 - val_loss: 0.2652 - val_accuracy: 0.9633\n",
      "Epoch 226/250\n",
      "3750/3750 [==============================] - 34s 9ms/step - loss: 0.3071 - accuracy: 0.9492 - val_loss: 0.3414 - val_accuracy: 0.9391\n",
      "Epoch 227/250\n",
      "3750/3750 [==============================] - 32s 9ms/step - loss: 0.3060 - accuracy: 0.9491 - val_loss: 0.2930 - val_accuracy: 0.9542\n",
      "Epoch 228/250\n",
      "3750/3750 [==============================] - 32s 8ms/step - loss: 0.3130 - accuracy: 0.9489 - val_loss: 0.3261 - val_accuracy: 0.9423\n",
      "Epoch 229/250\n",
      "3750/3750 [==============================] - 31s 8ms/step - loss: 0.3094 - accuracy: 0.9491 - val_loss: 0.2665 - val_accuracy: 0.9618\n",
      "Epoch 230/250\n",
      "3750/3750 [==============================] - 32s 9ms/step - loss: 0.3127 - accuracy: 0.9481 - val_loss: 0.2825 - val_accuracy: 0.9553\n",
      "Epoch 231/250\n",
      "3750/3750 [==============================] - 31s 8ms/step - loss: 0.3085 - accuracy: 0.9487 - val_loss: 0.3142 - val_accuracy: 0.9476\n",
      "Epoch 232/250\n",
      "3750/3750 [==============================] - 34s 9ms/step - loss: 0.3098 - accuracy: 0.9485 - val_loss: 0.2741 - val_accuracy: 0.9636\n",
      "Epoch 233/250\n",
      "3750/3750 [==============================] - 33s 9ms/step - loss: 0.3097 - accuracy: 0.9495 - val_loss: 0.3077 - val_accuracy: 0.9471\n",
      "Epoch 234/250\n",
      "3750/3750 [==============================] - 34s 9ms/step - loss: 0.3115 - accuracy: 0.9496 - val_loss: 0.2768 - val_accuracy: 0.9616\n",
      "Epoch 235/250\n",
      "3750/3750 [==============================] - 37s 10ms/step - loss: 0.3073 - accuracy: 0.9503 - val_loss: 0.3007 - val_accuracy: 0.9530\n",
      "Epoch 236/250\n",
      "3750/3750 [==============================] - 34s 9ms/step - loss: 0.3098 - accuracy: 0.9492 - val_loss: 0.3182 - val_accuracy: 0.9486\n",
      "Epoch 237/250\n",
      "3750/3750 [==============================] - 34s 9ms/step - loss: 0.3098 - accuracy: 0.9491 - val_loss: 0.3695 - val_accuracy: 0.9270\n",
      "Epoch 238/250\n",
      "3750/3750 [==============================] - 34s 9ms/step - loss: 0.3066 - accuracy: 0.9499 - val_loss: 0.2839 - val_accuracy: 0.9579\n",
      "Epoch 239/250\n",
      "3750/3750 [==============================] - 35s 9ms/step - loss: 0.3082 - accuracy: 0.9492 - val_loss: 0.3254 - val_accuracy: 0.9405\n",
      "Epoch 240/250\n",
      "3750/3750 [==============================] - 36s 10ms/step - loss: 0.3062 - accuracy: 0.9495 - val_loss: 0.2832 - val_accuracy: 0.9592\n",
      "Epoch 241/250\n",
      "3750/3750 [==============================] - 37s 10ms/step - loss: 0.3038 - accuracy: 0.9503 - val_loss: 0.3407 - val_accuracy: 0.9385\n",
      "Epoch 242/250\n",
      "3750/3750 [==============================] - 35s 9ms/step - loss: 0.3073 - accuracy: 0.9500 - val_loss: 0.2851 - val_accuracy: 0.9548\n",
      "Epoch 243/250\n",
      "3750/3750 [==============================] - 36s 10ms/step - loss: 0.3076 - accuracy: 0.9500 - val_loss: 0.2489 - val_accuracy: 0.9682\n",
      "Epoch 244/250\n",
      "3750/3750 [==============================] - 34s 9ms/step - loss: 0.3067 - accuracy: 0.9498 - val_loss: 0.2814 - val_accuracy: 0.9590\n",
      "Epoch 245/250\n",
      "3750/3750 [==============================] - 35s 9ms/step - loss: 0.3039 - accuracy: 0.9509 - val_loss: 0.2738 - val_accuracy: 0.9576\n",
      "Epoch 246/250\n",
      "3750/3750 [==============================] - 36s 10ms/step - loss: 0.3054 - accuracy: 0.9504 - val_loss: 0.3291 - val_accuracy: 0.9432\n",
      "Epoch 247/250\n",
      "3750/3750 [==============================] - 36s 10ms/step - loss: 0.3081 - accuracy: 0.9491 - val_loss: 0.2936 - val_accuracy: 0.9542\n",
      "Epoch 248/250\n",
      "3750/3750 [==============================] - 37s 10ms/step - loss: 0.3069 - accuracy: 0.9494 - val_loss: 0.2688 - val_accuracy: 0.9591\n",
      "Epoch 249/250\n",
      "3750/3750 [==============================] - 36s 10ms/step - loss: 0.3050 - accuracy: 0.9504 - val_loss: 0.2892 - val_accuracy: 0.9565\n",
      "Epoch 250/250\n",
      "3750/3750 [==============================] - 37s 10ms/step - loss: 0.3067 - accuracy: 0.9502 - val_loss: 0.2990 - val_accuracy: 0.9546\n"
     ]
    }
   ],
   "source": [
    "history = modela.fit(trainX,trainY,validation_data=(testX,testY),epochs=250, batch_size=16)"
   ]
  },
  {
   "cell_type": "code",
   "execution_count": 63,
   "metadata": {
    "colab": {
     "base_uri": "https://localhost:8080/",
     "height": 268
    },
    "id": "ncgHNK-ZdyxM",
    "outputId": "a99845a2-71ce-4a11-e273-709a179e335a"
   },
   "outputs": [
    {
     "data": {
      "image/png": "[encoded data removed]",
      "text/plain": [
       "<Figure size 432x288 with 1 Axes>"
      ]
     },
     "metadata": {
      "needs_background": "light"
     },
     "output_type": "display_data"
    }
   ],
   "source": [
    "plt.figure()\n",
    "plt.plot(history.history[\"loss\"], label=\"train\")\n",
    "plt.plot(history.history[\"val_loss\"], label=\"test\")\n",
    "plt.plot(history.history[\"accuracy\"],label = \"train\")\n",
    "plt.plot(history.history[\"val_accuracy\"],label = 'test')\n",
    "plt.legend()\n",
    "plt.show()"
   ]
  },
  {
   "cell_type": "code",
   "execution_count": 23,
   "metadata": {
    "id": "kESqlzVYU8TN"
   },
   "outputs": [],
   "source": [
    "from keras.layers import Dense, Dropout, Flatten\n"
   ]
  },
  {
   "cell_type": "code",
   "execution_count": 24,
   "metadata": {
    "id": "E1PQmUreU8YD"
   },
   "outputs": [],
   "source": [
    "def define_mod_reg1():\n",
    "  model=Sequential()\n",
    "  \n",
    "  model.add(Conv2D(32, (3, 3), activation='relu', kernel_initializer='he_uniform', input_shape=(28, 28, 1)))\n",
    "  model.add(MaxPooling2D((2, 2)))\n",
    "  model.add(Flatten())\n",
    "  model.add(Dense(500, activation='relu', kernel_initializer='he_uniform',kernel_regularizer='l2'))\n",
    "  model.add(Dropout(0.25))\n",
    "  model.add(Dense(500, activation='relu', kernel_initializer='he_uniform',kernel_regularizer='l2'))\n",
    "  model.add(Dropout(0.25))\n",
    "  \n",
    "  model.add(Dense(10, activation='softmax'))\n",
    "    \n",
    "  opt = SGD(learning_rate=0.01, momentum=0.9)\n",
    "  model.compile(optimizer=opt, loss='categorical_crossentropy', metrics=['accuracy'])\n",
    "  return model"
   ]
  },
  {
   "cell_type": "code",
   "execution_count": 26,
   "metadata": {
    "id": "pYMtTEFdZzQE"
   },
   "outputs": [],
   "source": [
    "from tensorflow.keras.layers import Conv2D"
   ]
  },
  {
   "cell_type": "code",
   "execution_count": 28,
   "metadata": {
    "id": "7WGBOKA1aPpY"
   },
   "outputs": [],
   "source": [
    "from keras.optimizers import SGD"
   ]
  },
  {
   "cell_type": "code",
   "execution_count": 53,
   "metadata": {
    "id": "fwjnDk04U8dZ"
   },
   "outputs": [],
   "source": [
    "model=Sequential()\n",
    "model.add(Conv2D(filters=16,kernel_size=2,padding=\"same\",activation=\"relu\",input_shape=(28,28,1)))\n",
    "model.add(MaxPooling2D())\n",
    "model.add(Conv2D(filters=32,kernel_size=2,padding=\"same\",activation =\"relu\"))\n",
    "model.add(MaxPooling2D())\n",
    "model.add(Conv2D(filters=64,kernel_size=2,padding=\"same\",activation=\"relu\"))\n",
    "model.add(MaxPooling2D())\n",
    "model.add(Flatten())\n",
    "model.add(Dense(500,activation='relu'))\n",
    "model.add(Dropout(0.1))\n",
    "model.add(Dense(500,activation = 'relu'))\n",
    "model.add(Dropout(0.3))\n",
    "model.add(Dense(10,activation = 'softmax'))"
   ]
  },
  {
   "cell_type": "code",
   "execution_count": 54,
   "metadata": {
    "id": "pGjSbGJZU8f4"
   },
   "outputs": [],
   "source": [
    "model.compile(loss=\"categorical_crossentropy\", optimizer='adam',metrics=[\"accuracy\"])"
   ]
  },
  {
   "cell_type": "code",
   "execution_count": 57,
   "metadata": {
    "id": "BSdByWB4mWlD"
   },
   "outputs": [],
   "source": [
    "(trainX, trainy), (testX, testy) = mnist.load_data()"
   ]
  },
  {
   "cell_type": "code",
   "execution_count": 58,
   "metadata": {
    "id": "tQySdGIVmWnq"
   },
   "outputs": [],
   "source": [
    "trainY = to_categorical(trainy)\n",
    "testY = to_categorical(testy)"
   ]
  },
  {
   "cell_type": "code",
   "execution_count": 59,
   "metadata": {
    "id": "LPj_F583mWqJ"
   },
   "outputs": [],
   "source": [
    "trainX = trainX / 255.0\n",
    "testX = testX / 255.0"
   ]
  },
  {
   "cell_type": "code",
   "execution_count": 69,
   "metadata": {
    "id": "L2_jOnyBmn1H"
   },
   "outputs": [],
   "source": [
    "trainX = trainX.reshape(trainX.shape[0],28,28,1)\n",
    "testX = testX.reshape(testX.shape[0],28,28,1)"
   ]
  },
  {
   "cell_type": "code",
   "execution_count": null,
   "metadata": {
    "colab": {
     "base_uri": "https://localhost:8080/"
    },
    "id": "RaHE32UPmn39",
    "outputId": "19e8f764-83f2-4109-a0bd-5e900f20f4a1"
   },
   "outputs": [
    {
     "name": "stdout",
     "output_type": "stream",
     "text": [
      "Epoch 1/250\n",
      "1875/1875 [==============================] - 60s 32ms/step - loss: 0.0146 - accuracy: 0.9982 - val_loss: 0.1450 - val_accuracy: 0.9888\n",
      "Epoch 2/250\n",
      "1875/1875 [==============================] - 61s 33ms/step - loss: 0.0148 - accuracy: 0.9983 - val_loss: 0.2390 - val_accuracy: 0.9896\n",
      "Epoch 3/250\n",
      "1875/1875 [==============================] - 59s 32ms/step - loss: 0.0135 - accuracy: 0.9983 - val_loss: 0.3014 - val_accuracy: 0.9923\n",
      "Epoch 4/250\n",
      "1875/1875 [==============================] - 60s 32ms/step - loss: 0.0144 - accuracy: 0.9988 - val_loss: 0.2574 - val_accuracy: 0.9902\n",
      "Epoch 5/250\n",
      "1875/1875 [==============================] - 62s 33ms/step - loss: 0.0160 - accuracy: 0.9985 - val_loss: 0.3041 - val_accuracy: 0.9896\n",
      "Epoch 6/250\n",
      "1875/1875 [==============================] - 60s 32ms/step - loss: 0.0082 - accuracy: 0.9989 - val_loss: 0.2861 - val_accuracy: 0.9898\n",
      "Epoch 7/250\n",
      "1875/1875 [==============================] - 61s 33ms/step - loss: 0.0126 - accuracy: 0.9990 - val_loss: 0.1977 - val_accuracy: 0.9878\n",
      "Epoch 8/250\n",
      "1875/1875 [==============================] - 60s 32ms/step - loss: 0.0154 - accuracy: 0.9987 - val_loss: 0.2000 - val_accuracy: 0.9887\n",
      "Epoch 9/250\n",
      "1875/1875 [==============================] - 62s 33ms/step - loss: 0.0159 - accuracy: 0.9987 - val_loss: 0.1534 - val_accuracy: 0.9908\n",
      "Epoch 10/250\n",
      "1875/1875 [==============================] - 61s 32ms/step - loss: 0.0087 - accuracy: 0.9994 - val_loss: 0.2588 - val_accuracy: 0.9904\n",
      "Epoch 11/250\n",
      "1875/1875 [==============================] - 62s 33ms/step - loss: 0.0106 - accuracy: 0.9986 - val_loss: 0.2137 - val_accuracy: 0.9907\n",
      "Epoch 12/250\n",
      "1875/1875 [==============================] - 60s 32ms/step - loss: 0.0144 - accuracy: 0.9983 - val_loss: 0.1587 - val_accuracy: 0.9898\n",
      "Epoch 13/250\n",
      "1875/1875 [==============================] - 62s 33ms/step - loss: 0.0146 - accuracy: 0.9984 - val_loss: 0.2041 - val_accuracy: 0.9904\n",
      "Epoch 14/250\n",
      "1875/1875 [==============================] - 61s 32ms/step - loss: 0.0137 - accuracy: 0.9987 - val_loss: 0.2659 - val_accuracy: 0.9898\n",
      "Epoch 15/250\n",
      "1875/1875 [==============================] - 62s 33ms/step - loss: 0.0129 - accuracy: 0.9986 - val_loss: 0.2964 - val_accuracy: 0.9922\n",
      "Epoch 16/250\n",
      "1875/1875 [==============================] - 61s 32ms/step - loss: 0.0128 - accuracy: 0.9990 - val_loss: 0.3273 - val_accuracy: 0.9912\n",
      "Epoch 17/250\n",
      "1875/1875 [==============================] - 63s 33ms/step - loss: 0.0142 - accuracy: 0.9987 - val_loss: 0.2678 - val_accuracy: 0.9902\n",
      "Epoch 18/250\n",
      "1875/1875 [==============================] - 60s 32ms/step - loss: 0.0158 - accuracy: 0.9981 - val_loss: 0.2078 - val_accuracy: 0.9912\n",
      "Epoch 19/250\n",
      "1875/1875 [==============================] - 71s 38ms/step - loss: 0.0069 - accuracy: 0.9991 - val_loss: 0.2219 - val_accuracy: 0.9905\n",
      "Epoch 20/250\n",
      " 373/1875 [====>.........................] - ETA: 46s - loss: 0.0052 - accuracy: 0.9994"
     ]
    }
   ],
   "source": [
    "history = model.fit(trainX, trainY, validation_data=(testX, testY),epochs=250, batch_size=32)"
   ]
  },
  {
   "cell_type": "markdown",
   "metadata": {
    "id": "B36NeDfrupW1"
   },
   "source": [
    "Comparison : with L2 regularization CNN accuracy is 99% while normal Neural network has accuracy of 95%."
   ]
  }
 ],
 "metadata": {
  "colab": {
   "collapsed_sections": [],
   "provenance": []
  },
  "kernelspec": {
   "display_name": "Python 3 (ipykernel)",
   "language": "python",
   "name": "python3"
  },
  "language_info": {
   "codemirror_mode": {
    "name": "ipython",
    "version": 3
   },
   "file_extension": ".py",
   "mimetype": "text/x-python",
   "name": "python",
   "nbconvert_exporter": "python",
   "pygments_lexer": "ipython3",
   "version": "3.9.7"
  }
 },
 "nbformat": 4,
 "nbformat_minor": 1
}
